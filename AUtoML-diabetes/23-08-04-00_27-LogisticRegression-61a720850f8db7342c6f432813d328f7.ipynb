{
 "cells": [
  {
   "cell_type": "markdown",
   "metadata": {
    "application/vnd.databricks.v1+cell": {
     "cellMetadata": {
      "byteLimit": 2048000,
      "rowLimit": 10000
     },
     "inputWidgets": {},
     "nuid": "750ab741-8483-480b-87b9-461db5142271",
     "showTitle": false,
     "title": ""
    }
   },
   "source": [
    "# Logistic Regression training\n",
    "This is an auto-generated notebook. To reproduce these results, attach this notebook to the **Sohail Hosseini's Cluster** cluster and rerun it.\n",
    "- Compare trials in the [MLflow experiment](#mlflow/experiments/557053454446975/s?orderByKey=metrics.%60val_f1_score%60&orderByAsc=false)\n",
    "- Navigate to the parent notebook [here](#notebook/557053454446976) (If you launched the AutoML experiment using the Experiments UI, this link isn't very useful.)\n",
    "- Clone this notebook into your project folder by selecting **File > Clone** in the notebook toolbar.\n",
    "\n",
    "Runtime Version: _10.4.x-cpu-ml-scala2.12_"
   ]
  },
  {
   "cell_type": "code",
   "execution_count": 0,
   "metadata": {
    "application/vnd.databricks.v1+cell": {
     "cellMetadata": {
      "byteLimit": 2048000,
      "rowLimit": 10000
     },
     "inputWidgets": {},
     "nuid": "1cee35cc-a73d-4200-bf44-204293e40132",
     "showTitle": false,
     "title": ""
    },
    "execution": {
     "iopub.execute_input": "2023-08-04T00:28:49.706698Z",
     "iopub.status.busy": "2023-08-04T00:28:49.705713Z",
     "iopub.status.idle": "2023-08-04T00:28:49.714522Z",
     "shell.execute_reply": "2023-08-04T00:28:49.715416Z"
    }
   },
   "outputs": [
    {
     "output_type": "display_data",
     "data": {
      "text/html": [
       "<style scoped>\n",
       "  .ansiout {\n",
       "    display: block;\n",
       "    unicode-bidi: embed;\n",
       "    white-space: pre-wrap;\n",
       "    word-wrap: break-word;\n",
       "    word-break: break-all;\n",
       "    font-family: \"Source Code Pro\", \"Menlo\", monospace;;\n",
       "    font-size: 13px;\n",
       "    color: #555;\n",
       "    margin-left: 4px;\n",
       "    line-height: 19px;\n",
       "  }\n",
       "</style>\n",
       "<div class=\"ansiout\"></div>"
      ]
     },
     "metadata": {
      "application/vnd.databricks.v1+output": {
       "addedWidgets": {},
       "arguments": {},
       "data": "<div class=\"ansiout\"></div>",
       "datasetInfos": [],
       "metadata": {},
       "removedWidgets": [],
       "type": "html"
      }
     },
     "output_type": "display_data"
    }
   ],
   "source": [
    "import mlflow\n",
    "import databricks.automl_runtime\n",
    "\n",
    "target_col = \"Outcome\""
   ]
  },
  {
   "cell_type": "markdown",
   "metadata": {
    "application/vnd.databricks.v1+cell": {
     "cellMetadata": {
      "byteLimit": 2048000,
      "rowLimit": 10000
     },
     "inputWidgets": {},
     "nuid": "ac86eb17-ff50-448d-9224-2a53bcfdc194",
     "showTitle": false,
     "title": ""
    }
   },
   "source": [
    "## Load Data"
   ]
  },
  {
   "cell_type": "code",
   "execution_count": 0,
   "metadata": {
    "application/vnd.databricks.v1+cell": {
     "cellMetadata": {
      "byteLimit": 2048000,
      "rowLimit": 10000
     },
     "inputWidgets": {},
     "nuid": "facf566d-4e0c-441f-8ecc-f17343deca88",
     "showTitle": false,
     "title": ""
    },
    "execution": {
     "iopub.execute_input": "2023-08-04T00:28:49.724809Z",
     "iopub.status.busy": "2023-08-04T00:28:49.723697Z",
     "iopub.status.idle": "2023-08-04T00:28:51.109468Z",
     "shell.execute_reply": "2023-08-04T00:28:51.110267Z"
    }
   },
   "outputs": [
    {
     "output_type": "display_data",
     "data": {
      "text/html": [
       "<style scoped>\n",
       "  .ansiout {\n",
       "    display: block;\n",
       "    unicode-bidi: embed;\n",
       "    white-space: pre-wrap;\n",
       "    word-wrap: break-word;\n",
       "    word-break: break-all;\n",
       "    font-family: \"Source Code Pro\", \"Menlo\", monospace;;\n",
       "    font-size: 13px;\n",
       "    color: #555;\n",
       "    margin-left: 4px;\n",
       "    line-height: 19px;\n",
       "  }\n",
       "</style>\n",
       "<div class=\"ansiout\">Out[2]: </div>"
      ]
     },
     "metadata": {
      "application/vnd.databricks.v1+output": {
       "addedWidgets": {},
       "arguments": {},
       "data": "<div class=\"ansiout\">Out[2]: </div>",
       "datasetInfos": [],
       "metadata": {},
       "removedWidgets": [],
       "type": "html"
      }
     },
     "output_type": "display_data"
    },
    {
     "output_type": "display_data",
     "data": {
      "text/html": [
       "<div>\n",
       "<style scoped>\n",
       "    .dataframe tbody tr th:only-of-type {\n",
       "        vertical-align: middle;\n",
       "    }\n",
       "\n",
       "    .dataframe tbody tr th {\n",
       "        vertical-align: top;\n",
       "    }\n",
       "\n",
       "    .dataframe thead th {\n",
       "        text-align: right;\n",
       "    }\n",
       "</style>\n",
       "<table border=\"1\" class=\"dataframe\">\n",
       "  <thead>\n",
       "    <tr style=\"text-align: right;\">\n",
       "      <th></th>\n",
       "      <th>Pregnancies</th>\n",
       "      <th>Glucose</th>\n",
       "      <th>BloodPressure</th>\n",
       "      <th>SkinThickness</th>\n",
       "      <th>Insulin</th>\n",
       "      <th>BMI</th>\n",
       "      <th>DiabetesPedigreeFunction</th>\n",
       "      <th>Age</th>\n",
       "      <th>Outcome</th>\n",
       "    </tr>\n",
       "  </thead>\n",
       "  <tbody>\n",
       "    <tr>\n",
       "      <th>0</th>\n",
       "      <td>6</td>\n",
       "      <td>148</td>\n",
       "      <td>72</td>\n",
       "      <td>35</td>\n",
       "      <td>0</td>\n",
       "      <td>33.6</td>\n",
       "      <td>0.627</td>\n",
       "      <td>50</td>\n",
       "      <td>1</td>\n",
       "    </tr>\n",
       "    <tr>\n",
       "      <th>1</th>\n",
       "      <td>1</td>\n",
       "      <td>85</td>\n",
       "      <td>66</td>\n",
       "      <td>29</td>\n",
       "      <td>0</td>\n",
       "      <td>26.6</td>\n",
       "      <td>0.351</td>\n",
       "      <td>31</td>\n",
       "      <td>0</td>\n",
       "    </tr>\n",
       "    <tr>\n",
       "      <th>2</th>\n",
       "      <td>8</td>\n",
       "      <td>183</td>\n",
       "      <td>64</td>\n",
       "      <td>0</td>\n",
       "      <td>0</td>\n",
       "      <td>23.3</td>\n",
       "      <td>0.672</td>\n",
       "      <td>32</td>\n",
       "      <td>1</td>\n",
       "    </tr>\n",
       "    <tr>\n",
       "      <th>3</th>\n",
       "      <td>1</td>\n",
       "      <td>89</td>\n",
       "      <td>66</td>\n",
       "      <td>23</td>\n",
       "      <td>94</td>\n",
       "      <td>28.1</td>\n",
       "      <td>0.167</td>\n",
       "      <td>21</td>\n",
       "      <td>0</td>\n",
       "    </tr>\n",
       "    <tr>\n",
       "      <th>4</th>\n",
       "      <td>0</td>\n",
       "      <td>137</td>\n",
       "      <td>40</td>\n",
       "      <td>35</td>\n",
       "      <td>168</td>\n",
       "      <td>43.1</td>\n",
       "      <td>2.288</td>\n",
       "      <td>33</td>\n",
       "      <td>1</td>\n",
       "    </tr>\n",
       "  </tbody>\n",
       "</table>\n",
       "</div>"
      ]
     },
     "metadata": {
      "application/vnd.databricks.v1+output": {
       "addedWidgets": {},
       "arguments": {},
       "data": "<div>\n<style scoped>\n    .dataframe tbody tr th:only-of-type {\n        vertical-align: middle;\n    }\n\n    .dataframe tbody tr th {\n        vertical-align: top;\n    }\n\n    .dataframe thead th {\n        text-align: right;\n    }\n</style>\n<table border=\"1\" class=\"dataframe\">\n  <thead>\n    <tr style=\"text-align: right;\">\n      <th></th>\n      <th>Pregnancies</th>\n      <th>Glucose</th>\n      <th>BloodPressure</th>\n      <th>SkinThickness</th>\n      <th>Insulin</th>\n      <th>BMI</th>\n      <th>DiabetesPedigreeFunction</th>\n      <th>Age</th>\n      <th>Outcome</th>\n    </tr>\n  </thead>\n  <tbody>\n    <tr>\n      <th>0</th>\n      <td>6</td>\n      <td>148</td>\n      <td>72</td>\n      <td>35</td>\n      <td>0</td>\n      <td>33.6</td>\n      <td>0.627</td>\n      <td>50</td>\n      <td>1</td>\n    </tr>\n    <tr>\n      <th>1</th>\n      <td>1</td>\n      <td>85</td>\n      <td>66</td>\n      <td>29</td>\n      <td>0</td>\n      <td>26.6</td>\n      <td>0.351</td>\n      <td>31</td>\n      <td>0</td>\n    </tr>\n    <tr>\n      <th>2</th>\n      <td>8</td>\n      <td>183</td>\n      <td>64</td>\n      <td>0</td>\n      <td>0</td>\n      <td>23.3</td>\n      <td>0.672</td>\n      <td>32</td>\n      <td>1</td>\n    </tr>\n    <tr>\n      <th>3</th>\n      <td>1</td>\n      <td>89</td>\n      <td>66</td>\n      <td>23</td>\n      <td>94</td>\n      <td>28.1</td>\n      <td>0.167</td>\n      <td>21</td>\n      <td>0</td>\n    </tr>\n    <tr>\n      <th>4</th>\n      <td>0</td>\n      <td>137</td>\n      <td>40</td>\n      <td>35</td>\n      <td>168</td>\n      <td>43.1</td>\n      <td>2.288</td>\n      <td>33</td>\n      <td>1</td>\n    </tr>\n  </tbody>\n</table>\n</div>",
       "datasetInfos": [],
       "metadata": {},
       "removedWidgets": [],
       "textData": null,
       "type": "htmlSandbox"
      }
     },
     "output_type": "display_data"
    }
   ],
   "source": [
    "from mlflow.tracking import MlflowClient\n",
    "import os\n",
    "import uuid\n",
    "import shutil\n",
    "import pandas as pd\n",
    "\n",
    "# Create temp directory to download input data from MLflow\n",
    "input_temp_dir = os.path.join(os.environ[\"SPARK_LOCAL_DIRS\"], \"tmp\", str(uuid.uuid4())[:8])\n",
    "os.makedirs(input_temp_dir)\n",
    "\n",
    "\n",
    "# Download the artifact and read it into a pandas DataFrame\n",
    "input_client = MlflowClient()\n",
    "input_data_path = input_client.download_artifacts(\"c8daf7e8bbe743b794c46f66869f8146\", \"data\", input_temp_dir)\n",
    "\n",
    "df_loaded = pd.read_parquet(os.path.join(input_data_path, \"training_data\"))\n",
    "# Delete the temp data\n",
    "shutil.rmtree(input_temp_dir)\n",
    "\n",
    "# Preview data\n",
    "df_loaded.head(5)"
   ]
  },
  {
   "cell_type": "markdown",
   "metadata": {
    "application/vnd.databricks.v1+cell": {
     "cellMetadata": {
      "byteLimit": 2048000,
      "rowLimit": 10000
     },
     "inputWidgets": {},
     "nuid": "dc86342b-d4aa-4fd6-b6ff-0e2e7e399574",
     "showTitle": false,
     "title": ""
    }
   },
   "source": [
    "### Select supported columns\n",
    "Select only the columns that are supported. This allows us to train a model that can predict on a dataset that has extra columns that are not used in training.\n",
    "`[]` are dropped in the pipelines. See the Alerts tab of the AutoML Experiment page for details on why these columns are dropped."
   ]
  },
  {
   "cell_type": "code",
   "execution_count": 0,
   "metadata": {
    "application/vnd.databricks.v1+cell": {
     "cellMetadata": {
      "byteLimit": 2048000,
      "rowLimit": 10000
     },
     "inputWidgets": {},
     "nuid": "b55e2644-1748-4e5a-9930-91efb1e0c1d4",
     "showTitle": false,
     "title": ""
    },
    "execution": {
     "iopub.execute_input": "2023-08-04T00:28:51.120487Z",
     "iopub.status.busy": "2023-08-04T00:28:51.119357Z",
     "iopub.status.idle": "2023-08-04T00:28:51.594469Z",
     "shell.execute_reply": "2023-08-04T00:28:51.595602Z"
    }
   },
   "outputs": [
    {
     "output_type": "display_data",
     "data": {
      "text/html": [
       "<style scoped>\n",
       "  .ansiout {\n",
       "    display: block;\n",
       "    unicode-bidi: embed;\n",
       "    white-space: pre-wrap;\n",
       "    word-wrap: break-word;\n",
       "    word-break: break-all;\n",
       "    font-family: \"Source Code Pro\", \"Menlo\", monospace;;\n",
       "    font-size: 13px;\n",
       "    color: #555;\n",
       "    margin-left: 4px;\n",
       "    line-height: 19px;\n",
       "  }\n",
       "</style>\n",
       "<div class=\"ansiout\"></div>"
      ]
     },
     "metadata": {
      "application/vnd.databricks.v1+output": {
       "addedWidgets": {},
       "arguments": {},
       "data": "<div class=\"ansiout\"></div>",
       "datasetInfos": [],
       "metadata": {},
       "removedWidgets": [],
       "type": "html"
      }
     },
     "output_type": "display_data"
    }
   ],
   "source": [
    "from databricks.automl_runtime.sklearn.column_selector import ColumnSelector\n",
    "supported_cols = [\"Age\", \"BloodPressure\", \"Insulin\", \"BMI\", \"SkinThickness\", \"DiabetesPedigreeFunction\", \"Pregnancies\", \"Glucose\"]\n",
    "col_selector = ColumnSelector(supported_cols)"
   ]
  },
  {
   "cell_type": "markdown",
   "metadata": {
    "application/vnd.databricks.v1+cell": {
     "cellMetadata": {
      "byteLimit": 2048000,
      "rowLimit": 10000
     },
     "inputWidgets": {},
     "nuid": "324099c1-a996-4b8c-b5cd-da6be6855520",
     "showTitle": false,
     "title": ""
    }
   },
   "source": [
    "## Preprocessors"
   ]
  },
  {
   "cell_type": "code",
   "execution_count": 0,
   "metadata": {
    "application/vnd.databricks.v1+cell": {
     "cellMetadata": {
      "byteLimit": 2048000,
      "rowLimit": 10000
     },
     "inputWidgets": {},
     "nuid": "38e22428-5b60-4dcc-953c-46a7e0cc5650",
     "showTitle": false,
     "title": ""
    },
    "execution": {
     "iopub.execute_input": "2023-08-04T00:28:51.600406Z",
     "iopub.status.busy": "2023-08-04T00:28:51.599495Z",
     "iopub.status.idle": "2023-08-04T00:28:51.605553Z",
     "shell.execute_reply": "2023-08-04T00:28:51.604746Z"
    }
   },
   "outputs": [
    {
     "output_type": "display_data",
     "data": {
      "text/html": [
       "<style scoped>\n",
       "  .ansiout {\n",
       "    display: block;\n",
       "    unicode-bidi: embed;\n",
       "    white-space: pre-wrap;\n",
       "    word-wrap: break-word;\n",
       "    word-break: break-all;\n",
       "    font-family: \"Source Code Pro\", \"Menlo\", monospace;;\n",
       "    font-size: 13px;\n",
       "    color: #555;\n",
       "    margin-left: 4px;\n",
       "    line-height: 19px;\n",
       "  }\n",
       "</style>\n",
       "<div class=\"ansiout\"></div>"
      ]
     },
     "metadata": {
      "application/vnd.databricks.v1+output": {
       "addedWidgets": {},
       "arguments": {},
       "data": "<div class=\"ansiout\"></div>",
       "datasetInfos": [],
       "metadata": {},
       "removedWidgets": [],
       "type": "html"
      }
     },
     "output_type": "display_data"
    }
   ],
   "source": [
    "transformers = []"
   ]
  },
  {
   "cell_type": "markdown",
   "metadata": {
    "application/vnd.databricks.v1+cell": {
     "cellMetadata": {
      "byteLimit": 2048000,
      "rowLimit": 10000
     },
     "inputWidgets": {},
     "nuid": "42aa5bc6-5bc1-475a-b96e-4eb705298656",
     "showTitle": false,
     "title": ""
    }
   },
   "source": [
    "### Numerical columns\n",
    "\n",
    "Missing values for numerical columns are imputed with mean by default."
   ]
  },
  {
   "cell_type": "code",
   "execution_count": 0,
   "metadata": {
    "application/vnd.databricks.v1+cell": {
     "cellMetadata": {
      "byteLimit": 2048000,
      "rowLimit": 10000
     },
     "inputWidgets": {},
     "nuid": "554e7c21-14ca-4470-acaa-dd4c45caf00c",
     "showTitle": false,
     "title": ""
    },
    "execution": {
     "iopub.execute_input": "2023-08-04T00:28:51.621393Z",
     "iopub.status.busy": "2023-08-04T00:28:51.614827Z",
     "iopub.status.idle": "2023-08-04T00:28:51.724113Z",
     "shell.execute_reply": "2023-08-04T00:28:51.725095Z"
    }
   },
   "outputs": [
    {
     "output_type": "display_data",
     "data": {
      "text/html": [
       "<style scoped>\n",
       "  .ansiout {\n",
       "    display: block;\n",
       "    unicode-bidi: embed;\n",
       "    white-space: pre-wrap;\n",
       "    word-wrap: break-word;\n",
       "    word-break: break-all;\n",
       "    font-family: \"Source Code Pro\", \"Menlo\", monospace;;\n",
       "    font-size: 13px;\n",
       "    color: #555;\n",
       "    margin-left: 4px;\n",
       "    line-height: 19px;\n",
       "  }\n",
       "</style>\n",
       "<div class=\"ansiout\"></div>"
      ]
     },
     "metadata": {
      "application/vnd.databricks.v1+output": {
       "addedWidgets": {},
       "arguments": {},
       "data": "<div class=\"ansiout\"></div>",
       "datasetInfos": [],
       "metadata": {},
       "removedWidgets": [],
       "type": "html"
      }
     },
     "output_type": "display_data"
    }
   ],
   "source": [
    "from sklearn.compose import ColumnTransformer\n",
    "from sklearn.impute import SimpleImputer\n",
    "from sklearn.pipeline import Pipeline\n",
    "from sklearn.preprocessing import FunctionTransformer\n",
    "\n",
    "num_imputers = []\n",
    "num_imputers.append((\"impute_mean\", SimpleImputer(), [\"Age\", \"BMI\", \"BloodPressure\", \"DiabetesPedigreeFunction\", \"Glucose\", \"Insulin\", \"Pregnancies\", \"SkinThickness\"]))\n",
    "\n",
    "numerical_pipeline = Pipeline(steps=[\n",
    "    (\"converter\", FunctionTransformer(lambda df: df.apply(pd.to_numeric, errors=\"coerce\"))),\n",
    "    (\"imputers\", ColumnTransformer(num_imputers, sparse_threshold=0))\n",
    "])\n",
    "\n",
    "transformers.append((\"numerical\", numerical_pipeline, [\"Age\", \"BloodPressure\", \"Insulin\", \"BMI\", \"SkinThickness\", \"DiabetesPedigreeFunction\", \"Pregnancies\", \"Glucose\"]))"
   ]
  },
  {
   "cell_type": "code",
   "execution_count": 0,
   "metadata": {
    "application/vnd.databricks.v1+cell": {
     "cellMetadata": {
      "byteLimit": 2048000,
      "rowLimit": 10000
     },
     "inputWidgets": {},
     "nuid": "33930c5f-9d5d-4027-b264-75845632018e",
     "showTitle": false,
     "title": ""
    },
    "execution": {
     "iopub.execute_input": "2023-08-04T00:28:51.734230Z",
     "iopub.status.busy": "2023-08-04T00:28:51.732442Z",
     "iopub.status.idle": "2023-08-04T00:28:51.739466Z",
     "shell.execute_reply": "2023-08-04T00:28:51.740620Z"
    }
   },
   "outputs": [
    {
     "output_type": "display_data",
     "data": {
      "text/html": [
       "<style scoped>\n",
       "  .ansiout {\n",
       "    display: block;\n",
       "    unicode-bidi: embed;\n",
       "    white-space: pre-wrap;\n",
       "    word-wrap: break-word;\n",
       "    word-break: break-all;\n",
       "    font-family: \"Source Code Pro\", \"Menlo\", monospace;;\n",
       "    font-size: 13px;\n",
       "    color: #555;\n",
       "    margin-left: 4px;\n",
       "    line-height: 19px;\n",
       "  }\n",
       "</style>\n",
       "<div class=\"ansiout\"></div>"
      ]
     },
     "metadata": {
      "application/vnd.databricks.v1+output": {
       "addedWidgets": {},
       "arguments": {},
       "data": "<div class=\"ansiout\"></div>",
       "datasetInfos": [],
       "metadata": {},
       "removedWidgets": [],
       "type": "html"
      }
     },
     "output_type": "display_data"
    }
   ],
   "source": [
    "from sklearn.compose import ColumnTransformer\n",
    "\n",
    "preprocessor = ColumnTransformer(transformers, remainder=\"passthrough\", sparse_threshold=0)"
   ]
  },
  {
   "cell_type": "markdown",
   "metadata": {
    "application/vnd.databricks.v1+cell": {
     "cellMetadata": {
      "byteLimit": 2048000,
      "rowLimit": 10000
     },
     "inputWidgets": {},
     "nuid": "89ae54c9-5fea-4f34-a39d-96d506ce9edd",
     "showTitle": false,
     "title": ""
    }
   },
   "source": [
    "### Feature standardization\n",
    "Scale all feature columns to be centered around zero with unit variance."
   ]
  },
  {
   "cell_type": "code",
   "execution_count": 0,
   "metadata": {
    "application/vnd.databricks.v1+cell": {
     "cellMetadata": {
      "byteLimit": 2048000,
      "rowLimit": 10000
     },
     "inputWidgets": {},
     "nuid": "35a8b0fa-232e-43bb-b70d-0f04f8aaaecb",
     "showTitle": false,
     "title": ""
    },
    "execution": {
     "iopub.execute_input": "2023-08-04T00:28:51.745938Z",
     "iopub.status.busy": "2023-08-04T00:28:51.744283Z",
     "iopub.status.idle": "2023-08-04T00:28:51.750826Z",
     "shell.execute_reply": "2023-08-04T00:28:51.751979Z"
    }
   },
   "outputs": [
    {
     "output_type": "display_data",
     "data": {
      "text/html": [
       "<style scoped>\n",
       "  .ansiout {\n",
       "    display: block;\n",
       "    unicode-bidi: embed;\n",
       "    white-space: pre-wrap;\n",
       "    word-wrap: break-word;\n",
       "    word-break: break-all;\n",
       "    font-family: \"Source Code Pro\", \"Menlo\", monospace;;\n",
       "    font-size: 13px;\n",
       "    color: #555;\n",
       "    margin-left: 4px;\n",
       "    line-height: 19px;\n",
       "  }\n",
       "</style>\n",
       "<div class=\"ansiout\"></div>"
      ]
     },
     "metadata": {
      "application/vnd.databricks.v1+output": {
       "addedWidgets": {},
       "arguments": {},
       "data": "<div class=\"ansiout\"></div>",
       "datasetInfos": [],
       "metadata": {},
       "removedWidgets": [],
       "type": "html"
      }
     },
     "output_type": "display_data"
    }
   ],
   "source": [
    "from sklearn.preprocessing import StandardScaler\n",
    "\n",
    "standardizer = StandardScaler()"
   ]
  },
  {
   "cell_type": "markdown",
   "metadata": {
    "application/vnd.databricks.v1+cell": {
     "cellMetadata": {
      "byteLimit": 2048000,
      "rowLimit": 10000
     },
     "inputWidgets": {},
     "nuid": "52d10952-ec7e-4332-b86e-20b51f535442",
     "showTitle": false,
     "title": ""
    }
   },
   "source": [
    "## Train - Validation - Test Split\n",
    "Split the input data into 3 sets:\n",
    "- Train (60% of the dataset used to train the model)\n",
    "- Validation (20% of the dataset used to tune the hyperparameters of the model)\n",
    "- Test (20% of the dataset used to report the true performance of the model on an unseen dataset)"
   ]
  },
  {
   "cell_type": "code",
   "execution_count": 0,
   "metadata": {
    "application/vnd.databricks.v1+cell": {
     "cellMetadata": {
      "byteLimit": 2048000,
      "rowLimit": 10000
     },
     "inputWidgets": {},
     "nuid": "2089c950-7dde-4c3f-a8a7-dca34ec0fab7",
     "showTitle": false,
     "title": ""
    },
    "execution": {
     "iopub.execute_input": "2023-08-04T00:28:51.757306Z",
     "iopub.status.busy": "2023-08-04T00:28:51.755645Z",
     "iopub.status.idle": "2023-08-04T00:28:51.772506Z",
     "shell.execute_reply": "2023-08-04T00:28:51.773648Z"
    }
   },
   "outputs": [
    {
     "output_type": "display_data",
     "data": {
      "text/html": [
       "<style scoped>\n",
       "  .ansiout {\n",
       "    display: block;\n",
       "    unicode-bidi: embed;\n",
       "    white-space: pre-wrap;\n",
       "    word-wrap: break-word;\n",
       "    word-break: break-all;\n",
       "    font-family: \"Source Code Pro\", \"Menlo\", monospace;;\n",
       "    font-size: 13px;\n",
       "    color: #555;\n",
       "    margin-left: 4px;\n",
       "    line-height: 19px;\n",
       "  }\n",
       "</style>\n",
       "<div class=\"ansiout\"></div>"
      ]
     },
     "metadata": {
      "application/vnd.databricks.v1+output": {
       "addedWidgets": {},
       "arguments": {},
       "data": "<div class=\"ansiout\"></div>",
       "datasetInfos": [],
       "metadata": {},
       "removedWidgets": [],
       "type": "html"
      }
     },
     "output_type": "display_data"
    }
   ],
   "source": [
    "from sklearn.model_selection import train_test_split\n",
    "\n",
    "split_X = df_loaded.drop([target_col], axis=1)\n",
    "split_y = df_loaded[target_col]\n",
    "\n",
    "# Split out train data\n",
    "X_train, split_X_rem, y_train, split_y_rem = train_test_split(split_X, split_y, train_size=0.6, random_state=533288322, stratify=split_y)\n",
    "\n",
    "# Split remaining data equally for validation and test\n",
    "X_val, X_test, y_val, y_test = train_test_split(split_X_rem, split_y_rem, test_size=0.5, random_state=533288322, stratify=split_y_rem)"
   ]
  },
  {
   "cell_type": "markdown",
   "metadata": {
    "application/vnd.databricks.v1+cell": {
     "cellMetadata": {
      "byteLimit": 2048000,
      "rowLimit": 10000
     },
     "inputWidgets": {},
     "nuid": "57d83fa8-7ffa-4422-a3f8-0857b6d9abf3",
     "showTitle": false,
     "title": ""
    }
   },
   "source": [
    "## Train classification model\n",
    "- Log relevant metrics to MLflow to track runs\n",
    "- All the runs are logged under [this MLflow experiment](#mlflow/experiments/557053454446975/s?orderByKey=metrics.%60val_f1_score%60&orderByAsc=false)\n",
    "- Change the model parameters and re-run the training cell to log a different trial to the MLflow experiment\n",
    "- To view the full list of tunable hyperparameters, check the output of the cell below"
   ]
  },
  {
   "cell_type": "code",
   "execution_count": 0,
   "metadata": {
    "application/vnd.databricks.v1+cell": {
     "cellMetadata": {
      "byteLimit": 2048000,
      "rowLimit": 10000
     },
     "inputWidgets": {},
     "nuid": "06ba1f9b-03e0-421d-9ca4-c879a283483e",
     "showTitle": false,
     "title": ""
    },
    "execution": {
     "iopub.execute_input": "2023-08-04T00:28:51.779291Z",
     "iopub.status.busy": "2023-08-04T00:28:51.777489Z",
     "iopub.status.idle": "2023-08-04T00:28:51.793455Z",
     "shell.execute_reply": "2023-08-04T00:28:51.794630Z"
    }
   },
   "outputs": [
    {
     "output_type": "display_data",
     "data": {
      "text/html": [
       "<style scoped>\n",
       "  .ansiout {\n",
       "    display: block;\n",
       "    unicode-bidi: embed;\n",
       "    white-space: pre-wrap;\n",
       "    word-wrap: break-word;\n",
       "    word-break: break-all;\n",
       "    font-family: \"Source Code Pro\", \"Menlo\", monospace;;\n",
       "    font-size: 13px;\n",
       "    color: #555;\n",
       "    margin-left: 4px;\n",
       "    line-height: 19px;\n",
       "  }\n",
       "</style>\n",
       "<div class=\"ansiout\">Help on class LogisticRegression in module sklearn.linear_model._logistic:\n",
       "\n",
       "class LogisticRegression(sklearn.linear_model._base.LinearClassifierMixin, sklearn.linear_model._base.SparseCoefMixin, sklearn.base.BaseEstimator)\n",
       "  LogisticRegression(penalty=&#39;l2&#39;, *, dual=False, tol=0.0001, C=1.0, fit_intercept=True, intercept_scaling=1, class_weight=None, random_state=None, solver=&#39;lbfgs&#39;, max_iter=100, multi_class=&#39;auto&#39;, verbose=0, warm_start=False, n_jobs=None, l1_ratio=None)\n",
       "  \n",
       "  Logistic Regression (aka logit, MaxEnt) classifier.\n",
       "  \n",
       "  In the multiclass case, the training algorithm uses the one-vs-rest (OvR)\n",
       "  scheme if the &#39;multi_class&#39; option is set to &#39;ovr&#39;, and uses the\n",
       "  cross-entropy loss if the &#39;multi_class&#39; option is set to &#39;multinomial&#39;.\n",
       "  (Currently the &#39;multinomial&#39; option is supported only by the &#39;lbfgs&#39;,\n",
       "  &#39;sag&#39;, &#39;saga&#39; and &#39;newton-cg&#39; solvers.)\n",
       "  \n",
       "  This class implements regularized logistic regression using the\n",
       "  &#39;liblinear&#39; library, &#39;newton-cg&#39;, &#39;sag&#39;, &#39;saga&#39; and &#39;lbfgs&#39; solvers. **Note\n",
       "  that regularization is applied by default**. It can handle both dense\n",
       "  and sparse input. Use C-ordered arrays or CSR matrices containing 64-bit\n",
       "  floats for optimal performance; any other input format will be converted\n",
       "  (and copied).\n",
       "  \n",
       "  The &#39;newton-cg&#39;, &#39;sag&#39;, and &#39;lbfgs&#39; solvers support only L2 regularization\n",
       "  with primal formulation, or no regularization. The &#39;liblinear&#39; solver\n",
       "  supports both L1 and L2 regularization, with a dual formulation only for\n",
       "  the L2 penalty. The Elastic-Net regularization is only supported by the\n",
       "  &#39;saga&#39; solver.\n",
       "  \n",
       "  Read more in the :ref:`User Guide &lt;logistic_regression&gt;`.\n",
       "  \n",
       "  Parameters\n",
       "  ----------\n",
       "  penalty : {&#39;l1&#39;, &#39;l2&#39;, &#39;elasticnet&#39;, &#39;none&#39;}, default=&#39;l2&#39;\n",
       "      Used to specify the norm used in the penalization. The &#39;newton-cg&#39;,\n",
       "      &#39;sag&#39; and &#39;lbfgs&#39; solvers support only l2 penalties. &#39;elasticnet&#39; is\n",
       "      only supported by the &#39;saga&#39; solver. If &#39;none&#39; (not supported by the\n",
       "      liblinear solver), no regularization is applied.\n",
       "  \n",
       "      .. versionadded:: 0.19\n",
       "         l1 penalty with SAGA solver (allowing &#39;multinomial&#39; + L1)\n",
       "  \n",
       "  dual : bool, default=False\n",
       "      Dual or primal formulation. Dual formulation is only implemented for\n",
       "      l2 penalty with liblinear solver. Prefer dual=False when\n",
       "      n_samples &gt; n_features.\n",
       "  \n",
       "  tol : float, default=1e-4\n",
       "      Tolerance for stopping criteria.\n",
       "  \n",
       "  C : float, default=1.0\n",
       "      Inverse of regularization strength; must be a positive float.\n",
       "      Like in support vector machines, smaller values specify stronger\n",
       "      regularization.\n",
       "  \n",
       "  fit_intercept : bool, default=True\n",
       "      Specifies if a constant (a.k.a. bias or intercept) should be\n",
       "      added to the decision function.\n",
       "  \n",
       "  intercept_scaling : float, default=1\n",
       "      Useful only when the solver &#39;liblinear&#39; is used\n",
       "      and self.fit_intercept is set to True. In this case, x becomes\n",
       "      [x, self.intercept_scaling],\n",
       "      i.e. a &#34;synthetic&#34; feature with constant value equal to\n",
       "      intercept_scaling is appended to the instance vector.\n",
       "      The intercept becomes ``intercept_scaling * synthetic_feature_weight``.\n",
       "  \n",
       "      Note! the synthetic feature weight is subject to l1/l2 regularization\n",
       "      as all other features.\n",
       "      To lessen the effect of regularization on synthetic feature weight\n",
       "      (and therefore on the intercept) intercept_scaling has to be increased.\n",
       "  \n",
       "  class_weight : dict or &#39;balanced&#39;, default=None\n",
       "      Weights associated with classes in the form ``{class_label: weight}``.\n",
       "      If not given, all classes are supposed to have weight one.\n",
       "  \n",
       "      The &#34;balanced&#34; mode uses the values of y to automatically adjust\n",
       "      weights inversely proportional to class frequencies in the input data\n",
       "      as ``n_samples / (n_classes * np.bincount(y))``.\n",
       "  \n",
       "      Note that these weights will be multiplied with sample_weight (passed\n",
       "      through the fit method) if sample_weight is specified.\n",
       "  \n",
       "      .. versionadded:: 0.17\n",
       "         *class_weight=&#39;balanced&#39;*\n",
       "  \n",
       "  random_state : int, RandomState instance, default=None\n",
       "      Used when ``solver`` == &#39;sag&#39;, &#39;saga&#39; or &#39;liblinear&#39; to shuffle the\n",
       "      data. See :term:`Glossary &lt;random_state&gt;` for details.\n",
       "  \n",
       "  solver : {&#39;newton-cg&#39;, &#39;lbfgs&#39;, &#39;liblinear&#39;, &#39;sag&#39;, &#39;saga&#39;},             default=&#39;lbfgs&#39;\n",
       "  \n",
       "      Algorithm to use in the optimization problem.\n",
       "  \n",
       "      - For small datasets, &#39;liblinear&#39; is a good choice, whereas &#39;sag&#39; and\n",
       "        &#39;saga&#39; are faster for large ones.\n",
       "      - For multiclass problems, only &#39;newton-cg&#39;, &#39;sag&#39;, &#39;saga&#39; and &#39;lbfgs&#39;\n",
       "        handle multinomial loss; &#39;liblinear&#39; is limited to one-versus-rest\n",
       "        schemes.\n",
       "      - &#39;newton-cg&#39;, &#39;lbfgs&#39;, &#39;sag&#39; and &#39;saga&#39; handle L2 or no penalty\n",
       "      - &#39;liblinear&#39; and &#39;saga&#39; also handle L1 penalty\n",
       "      - &#39;saga&#39; also supports &#39;elasticnet&#39; penalty\n",
       "      - &#39;liblinear&#39; does not support setting ``penalty=&#39;none&#39;``\n",
       "  \n",
       "      Note that &#39;sag&#39; and &#39;saga&#39; fast convergence is only guaranteed on\n",
       "      features with approximately the same scale. You can\n",
       "      preprocess the data with a scaler from sklearn.preprocessing.\n",
       "  \n",
       "      .. versionadded:: 0.17\n",
       "         Stochastic Average Gradient descent solver.\n",
       "      .. versionadded:: 0.19\n",
       "         SAGA solver.\n",
       "      .. versionchanged:: 0.22\n",
       "          The default solver changed from &#39;liblinear&#39; to &#39;lbfgs&#39; in 0.22.\n",
       "  \n",
       "  max_iter : int, default=100\n",
       "      Maximum number of iterations taken for the solvers to converge.\n",
       "  \n",
       "  multi_class : {&#39;auto&#39;, &#39;ovr&#39;, &#39;multinomial&#39;}, default=&#39;auto&#39;\n",
       "      If the option chosen is &#39;ovr&#39;, then a binary problem is fit for each\n",
       "      label. For &#39;multinomial&#39; the loss minimised is the multinomial loss fit\n",
       "      across the entire probability distribution, *even when the data is\n",
       "      binary*. &#39;multinomial&#39; is unavailable when solver=&#39;liblinear&#39;.\n",
       "      &#39;auto&#39; selects &#39;ovr&#39; if the data is binary, or if solver=&#39;liblinear&#39;,\n",
       "      and otherwise selects &#39;multinomial&#39;.\n",
       "  \n",
       "      .. versionadded:: 0.18\n",
       "         Stochastic Average Gradient descent solver for &#39;multinomial&#39; case.\n",
       "      .. versionchanged:: 0.22\n",
       "          Default changed from &#39;ovr&#39; to &#39;auto&#39; in 0.22.\n",
       "  \n",
       "  verbose : int, default=0\n",
       "      For the liblinear and lbfgs solvers set verbose to any positive\n",
       "      number for verbosity.\n",
       "  \n",
       "  warm_start : bool, default=False\n",
       "      When set to True, reuse the solution of the previous call to fit as\n",
       "      initialization, otherwise, just erase the previous solution.\n",
       "      Useless for liblinear solver. See :term:`the Glossary &lt;warm_start&gt;`.\n",
       "  \n",
       "      .. versionadded:: 0.17\n",
       "         *warm_start* to support *lbfgs*, *newton-cg*, *sag*, *saga* solvers.\n",
       "  \n",
       "  n_jobs : int, default=None\n",
       "      Number of CPU cores used when parallelizing over classes if\n",
       "      multi_class=&#39;ovr&#39;&#34;. This parameter is ignored when the ``solver`` is\n",
       "      set to &#39;liblinear&#39; regardless of whether &#39;multi_class&#39; is specified or\n",
       "      not. ``None`` means 1 unless in a :obj:`joblib.parallel_backend`\n",
       "      context. ``-1`` means using all processors.\n",
       "      See :term:`Glossary &lt;n_jobs&gt;` for more details.\n",
       "  \n",
       "  l1_ratio : float, default=None\n",
       "      The Elastic-Net mixing parameter, with ``0 &lt;= l1_ratio &lt;= 1``. Only\n",
       "      used if ``penalty=&#39;elasticnet&#39;``. Setting ``l1_ratio=0`` is equivalent\n",
       "      to using ``penalty=&#39;l2&#39;``, while setting ``l1_ratio=1`` is equivalent\n",
       "      to using ``penalty=&#39;l1&#39;``. For ``0 &lt; l1_ratio &lt;1``, the penalty is a\n",
       "      combination of L1 and L2.\n",
       "  \n",
       "  Attributes\n",
       "  ----------\n",
       "  \n",
       "  classes_ : ndarray of shape (n_classes, )\n",
       "      A list of class labels known to the classifier.\n",
       "  \n",
       "  coef_ : ndarray of shape (1, n_features) or (n_classes, n_features)\n",
       "      Coefficient of the features in the decision function.\n",
       "  \n",
       "      `coef_` is of shape (1, n_features) when the given problem is binary.\n",
       "      In particular, when `multi_class=&#39;multinomial&#39;`, `coef_` corresponds\n",
       "      to outcome 1 (True) and `-coef_` corresponds to outcome 0 (False).\n",
       "  \n",
       "  intercept_ : ndarray of shape (1,) or (n_classes,)\n",
       "      Intercept (a.k.a. bias) added to the decision function.\n",
       "  \n",
       "      If `fit_intercept` is set to False, the intercept is set to zero.\n",
       "      `intercept_` is of shape (1,) when the given problem is binary.\n",
       "      In particular, when `multi_class=&#39;multinomial&#39;`, `intercept_`\n",
       "      corresponds to outcome 1 (True) and `-intercept_` corresponds to\n",
       "      outcome 0 (False).\n",
       "  \n",
       "  n_iter_ : ndarray of shape (n_classes,) or (1, )\n",
       "      Actual number of iterations for all classes. If binary or multinomial,\n",
       "      it returns only 1 element. For liblinear solver, only the maximum\n",
       "      number of iteration across all classes is given.\n",
       "  \n",
       "      .. versionchanged:: 0.20\n",
       "  \n",
       "          In SciPy &lt;= 1.0.0 the number of lbfgs iterations may exceed\n",
       "          ``max_iter``. ``n_iter_`` will now report at most ``max_iter``.\n",
       "  \n",
       "  See Also\n",
       "  --------\n",
       "  SGDClassifier : Incrementally trained logistic regression (when given\n",
       "      the parameter ``loss=&#34;log&#34;``).\n",
       "  LogisticRegressionCV : Logistic regression with built-in cross validation.\n",
       "  \n",
       "  Notes\n",
       "  -----\n",
       "  The underlying C implementation uses a random number generator to\n",
       "  select features when fitting the model. It is thus not uncommon,\n",
       "  to have slightly different results for the same input data. If\n",
       "  that happens, try with a smaller tol parameter.\n",
       "  \n",
       "  Predict output may not match that of standalone liblinear in certain\n",
       "  cases. See :ref:`differences from liblinear &lt;liblinear_differences&gt;`\n",
       "  in the narrative documentation.\n",
       "  \n",
       "  References\n",
       "  ----------\n",
       "  \n",
       "  L-BFGS-B -- Software for Large-scale Bound-constrained Optimization\n",
       "      Ciyou Zhu, Richard Byrd, Jorge Nocedal and Jose Luis Morales.\n",
       "      http://users.iems.northwestern.edu/~nocedal/lbfgsb.html\n",
       "  \n",
       "  LIBLINEAR -- A Library for Large Linear Classification\n",
       "      https://www.csie.ntu.edu.tw/~cjlin/liblinear/\n",
       "  \n",
       "  SAG -- Mark Schmidt, Nicolas Le Roux, and Francis Bach\n",
       "      Minimizing Finite Sums with the Stochastic Average Gradient\n",
       "      https://hal.inria.fr/hal-00860051/document\n",
       "  \n",
       "  SAGA -- Defazio, A., Bach F. &amp; Lacoste-Julien S. (2014).\n",
       "      SAGA: A Fast Incremental Gradient Method With Support\n",
       "      for Non-Strongly Convex Composite Objectives\n",
       "      https://arxiv.org/abs/1407.0202\n",
       "  \n",
       "  Hsiang-Fu Yu, Fang-Lan Huang, Chih-Jen Lin (2011). Dual coordinate descent\n",
       "      methods for logistic regression and maximum entropy models.\n",
       "      Machine Learning 85(1-2):41-75.\n",
       "      https://www.csie.ntu.edu.tw/~cjlin/papers/maxent_dual.pdf\n",
       "  \n",
       "  Examples\n",
       "  --------\n",
       "  &gt;&gt;&gt; from sklearn.datasets import load_iris\n",
       "  &gt;&gt;&gt; from sklearn.linear_model import LogisticRegression\n",
       "  &gt;&gt;&gt; X, y = load_iris(return_X_y=True)\n",
       "  &gt;&gt;&gt; clf = LogisticRegression(random_state=0).fit(X, y)\n",
       "  &gt;&gt;&gt; clf.predict(X[:2, :])\n",
       "  array([0, 0])\n",
       "  &gt;&gt;&gt; clf.predict_proba(X[:2, :])\n",
       "  array([[9.8...e-01, 1.8...e-02, 1.4...e-08],\n",
       "         [9.7...e-01, 2.8...e-02, ...e-08]])\n",
       "  &gt;&gt;&gt; clf.score(X, y)\n",
       "  0.97...\n",
       "  \n",
       "  Method resolution order:\n",
       "      LogisticRegression\n",
       "      sklearn.linear_model._base.LinearClassifierMixin\n",
       "      sklearn.base.ClassifierMixin\n",
       "      sklearn.linear_model._base.SparseCoefMixin\n",
       "      sklearn.base.BaseEstimator\n",
       "      builtins.object\n",
       "  \n",
       "  Methods defined here:\n",
       "  \n",
       "  __init__(self, penalty=&#39;l2&#39;, *, dual=False, tol=0.0001, C=1.0, fit_intercept=True, intercept_scaling=1, class_weight=None, random_state=None, solver=&#39;lbfgs&#39;, max_iter=100, multi_class=&#39;auto&#39;, verbose=0, warm_start=False, n_jobs=None, l1_ratio=None)\n",
       "      Initialize self.  See help(type(self)) for accurate signature.\n",
       "  \n",
       "  fit(self, X, y, sample_weight=None)\n",
       "      Fit the model according to the given training data.\n",
       "      \n",
       "      Parameters\n",
       "      ----------\n",
       "      X : {array-like, sparse matrix} of shape (n_samples, n_features)\n",
       "          Training vector, where n_samples is the number of samples and\n",
       "          n_features is the number of features.\n",
       "      \n",
       "      y : array-like of shape (n_samples,)\n",
       "          Target vector relative to X.\n",
       "      \n",
       "      sample_weight : array-like of shape (n_samples,) default=None\n",
       "          Array of weights that are assigned to individual samples.\n",
       "          If not provided, then each sample is given unit weight.\n",
       "      \n",
       "          .. versionadded:: 0.17\n",
       "             *sample_weight* support to LogisticRegression.\n",
       "      \n",
       "      Returns\n",
       "      -------\n",
       "      self\n",
       "          Fitted estimator.\n",
       "      \n",
       "      Notes\n",
       "      -----\n",
       "      The SAGA solver supports both float64 and float32 bit arrays.\n",
       "  \n",
       "  predict(self, X)\n",
       "      Predict class labels for samples in X.\n",
       "      \n",
       "      Parameters\n",
       "      ----------\n",
       "      X : array-like or sparse matrix, shape (n_samples, n_features)\n",
       "          Samples.\n",
       "      \n",
       "      Returns\n",
       "      -------\n",
       "      C : array, shape [n_samples]\n",
       "          Predicted class label per sample.\n",
       "  \n",
       "  predict_log_proba(self, X)\n",
       "      Predict logarithm of probability estimates.\n",
       "      \n",
       "      The returned estimates for all classes are ordered by the\n",
       "      label of classes.\n",
       "      \n",
       "      Parameters\n",
       "      ----------\n",
       "      X : array-like of shape (n_samples, n_features)\n",
       "          Vector to be scored, where `n_samples` is the number of samples and\n",
       "          `n_features` is the number of features.\n",
       "      \n",
       "      Returns\n",
       "      -------\n",
       "      T : array-like of shape (n_samples, n_classes)\n",
       "          Returns the log-probability of the sample for each class in the\n",
       "          model, where classes are ordered as they are in ``self.classes_``.\n",
       "  \n",
       "  predict_proba(self, X)\n",
       "      Probability estimates.\n",
       "      \n",
       "      The returned estimates for all classes are ordered by the\n",
       "      label of classes.\n",
       "      \n",
       "      For a multi_class problem, if multi_class is set to be &#34;multinomial&#34;\n",
       "      the softmax function is used to find the predicted probability of\n",
       "      each class.\n",
       "      Else use a one-vs-rest approach, i.e calculate the probability\n",
       "      of each class assuming it to be positive using the logistic function.\n",
       "      and normalize these values across all the classes.\n",
       "      \n",
       "      Parameters\n",
       "      ----------\n",
       "      X : array-like of shape (n_samples, n_features)\n",
       "          Vector to be scored, where `n_samples` is the number of samples and\n",
       "          `n_features` is the number of features.\n",
       "      \n",
       "      Returns\n",
       "      -------\n",
       "      T : array-like of shape (n_samples, n_classes)\n",
       "          Returns the probability of the sample for each class in the model,\n",
       "          where classes are ordered as they are in ``self.classes_``.\n",
       "  \n",
       "  score(self, X, y, sample_weight=None)\n",
       "      Return the mean accuracy on the given test data and labels.\n",
       "      \n",
       "      In multi-label classification, this is the subset accuracy\n",
       "      which is a harsh metric since you require for each sample that\n",
       "      each label set be correctly predicted.\n",
       "      \n",
       "      Parameters\n",
       "      ----------\n",
       "      X : array-like of shape (n_samples, n_features)\n",
       "          Test samples.\n",
       "      \n",
       "      y : array-like of shape (n_samples,) or (n_samples, n_outputs)\n",
       "          True labels for `X`.\n",
       "      \n",
       "      sample_weight : array-like of shape (n_samples,), default=None\n",
       "          Sample weights.\n",
       "      \n",
       "      Returns\n",
       "      -------\n",
       "      score : float\n",
       "          Mean accuracy of ``self.predict(X)`` wrt. `y`.\n",
       "  \n",
       "  ----------------------------------------------------------------------\n",
       "  Methods inherited from sklearn.linear_model._base.LinearClassifierMixin:\n",
       "  \n",
       "  decision_function(self, X)\n",
       "      Predict confidence scores for samples.\n",
       "      \n",
       "      The confidence score for a sample is proportional to the signed\n",
       "      distance of that sample to the hyperplane.\n",
       "      \n",
       "      Parameters\n",
       "      ----------\n",
       "      X : array-like or sparse matrix, shape (n_samples, n_features)\n",
       "          Samples.\n",
       "      \n",
       "      Returns\n",
       "      -------\n",
       "      array, shape=(n_samples,) if n_classes == 2 else (n_samples, n_classes)\n",
       "          Confidence scores per (sample, class) combination. In the binary\n",
       "          case, confidence score for self.classes_[1] where &gt;0 means this\n",
       "          class would be predicted.\n",
       "  \n",
       "  ----------------------------------------------------------------------\n",
       "  Data descriptors inherited from sklearn.base.ClassifierMixin:\n",
       "  \n",
       "  __dict__\n",
       "      dictionary for instance variables (if defined)\n",
       "  \n",
       "  __weakref__\n",
       "      list of weak references to the object (if defined)\n",
       "  \n",
       "  ----------------------------------------------------------------------\n",
       "  Methods inherited from sklearn.linear_model._base.SparseCoefMixin:\n",
       "  \n",
       "  densify(self)\n",
       "      Convert coefficient matrix to dense array format.\n",
       "      \n",
       "      Converts the ``coef_`` member (back) to a numpy.ndarray. This is the\n",
       "      default format of ``coef_`` and is required for fitting, so calling\n",
       "      this method is only required on models that have previously been\n",
       "      sparsified; otherwise, it is a no-op.\n",
       "      \n",
       "      Returns\n",
       "      -------\n",
       "      self\n",
       "          Fitted estimator.\n",
       "  \n",
       "  sparsify(self)\n",
       "      Convert coefficient matrix to sparse format.\n",
       "      \n",
       "      Converts the ``coef_`` member to a scipy.sparse matrix, which for\n",
       "      L1-regularized models can be much more memory- and storage-efficient\n",
       "      than the usual numpy.ndarray representation.\n",
       "      \n",
       "      The ``intercept_`` member is not converted.\n",
       "      \n",
       "      Returns\n",
       "      -------\n",
       "      self\n",
       "          Fitted estimator.\n",
       "      \n",
       "      Notes\n",
       "      -----\n",
       "      For non-sparse models, i.e. when there are not many zeros in ``coef_``,\n",
       "      this may actually *increase* memory usage, so use this method with\n",
       "      care. A rule of thumb is that the number of zero elements, which can\n",
       "      be computed with ``(coef_ == 0).sum()``, must be more than 50% for this\n",
       "      to provide significant benefits.\n",
       "      \n",
       "      After calling this method, further fitting with the partial_fit\n",
       "      method (if any) will not work until you call densify.\n",
       "  \n",
       "  ----------------------------------------------------------------------\n",
       "  Methods inherited from sklearn.base.BaseEstimator:\n",
       "  \n",
       "  __getstate__(self)\n",
       "  \n",
       "  __repr__(self, N_CHAR_MAX=700)\n",
       "      Return repr(self).\n",
       "  \n",
       "  __setstate__(self, state)\n",
       "  \n",
       "  get_params(self, deep=True)\n",
       "      Get parameters for this estimator.\n",
       "      \n",
       "      Parameters\n",
       "      ----------\n",
       "      deep : bool, default=True\n",
       "          If True, will return the parameters for this estimator and\n",
       "          contained subobjects that are estimators.\n",
       "      \n",
       "      Returns\n",
       "      -------\n",
       "      params : dict\n",
       "          Parameter names mapped to their values.\n",
       "  \n",
       "  set_params(self, **params)\n",
       "      Set the parameters of this estimator.\n",
       "      \n",
       "      The method works on simple estimators as well as on nested objects\n",
       "      (such as :class:`~sklearn.pipeline.Pipeline`). The latter have\n",
       "      parameters of the form ``&lt;component&gt;__&lt;parameter&gt;`` so that it&#39;s\n",
       "      possible to update each component of a nested object.\n",
       "      \n",
       "      Parameters\n",
       "      ----------\n",
       "      **params : dict\n",
       "          Estimator parameters.\n",
       "      \n",
       "      Returns\n",
       "      -------\n",
       "      self : estimator instance\n",
       "          Estimator instance.\n",
       "\n",
       "</div>"
      ]
     },
     "metadata": {
      "application/vnd.databricks.v1+output": {
       "addedWidgets": {},
       "arguments": {},
       "data": "<div class=\"ansiout\">Help on class LogisticRegression in module sklearn.linear_model._logistic:\n\nclass LogisticRegression(sklearn.linear_model._base.LinearClassifierMixin, sklearn.linear_model._base.SparseCoefMixin, sklearn.base.BaseEstimator)\n |  LogisticRegression(penalty=&#39;l2&#39;, *, dual=False, tol=0.0001, C=1.0, fit_intercept=True, intercept_scaling=1, class_weight=None, random_state=None, solver=&#39;lbfgs&#39;, max_iter=100, multi_class=&#39;auto&#39;, verbose=0, warm_start=False, n_jobs=None, l1_ratio=None)\n |  \n |  Logistic Regression (aka logit, MaxEnt) classifier.\n |  \n |  In the multiclass case, the training algorithm uses the one-vs-rest (OvR)\n |  scheme if the &#39;multi_class&#39; option is set to &#39;ovr&#39;, and uses the\n |  cross-entropy loss if the &#39;multi_class&#39; option is set to &#39;multinomial&#39;.\n |  (Currently the &#39;multinomial&#39; option is supported only by the &#39;lbfgs&#39;,\n |  &#39;sag&#39;, &#39;saga&#39; and &#39;newton-cg&#39; solvers.)\n |  \n |  This class implements regularized logistic regression using the\n |  &#39;liblinear&#39; library, &#39;newton-cg&#39;, &#39;sag&#39;, &#39;saga&#39; and &#39;lbfgs&#39; solvers. **Note\n |  that regularization is applied by default**. It can handle both dense\n |  and sparse input. Use C-ordered arrays or CSR matrices containing 64-bit\n |  floats for optimal performance; any other input format will be converted\n |  (and copied).\n |  \n |  The &#39;newton-cg&#39;, &#39;sag&#39;, and &#39;lbfgs&#39; solvers support only L2 regularization\n |  with primal formulation, or no regularization. The &#39;liblinear&#39; solver\n |  supports both L1 and L2 regularization, with a dual formulation only for\n |  the L2 penalty. The Elastic-Net regularization is only supported by the\n |  &#39;saga&#39; solver.\n |  \n |  Read more in the :ref:`User Guide &lt;logistic_regression&gt;`.\n |  \n |  Parameters\n |  ----------\n |  penalty : {&#39;l1&#39;, &#39;l2&#39;, &#39;elasticnet&#39;, &#39;none&#39;}, default=&#39;l2&#39;\n |      Used to specify the norm used in the penalization. The &#39;newton-cg&#39;,\n |      &#39;sag&#39; and &#39;lbfgs&#39; solvers support only l2 penalties. &#39;elasticnet&#39; is\n |      only supported by the &#39;saga&#39; solver. If &#39;none&#39; (not supported by the\n |      liblinear solver), no regularization is applied.\n |  \n |      .. versionadded:: 0.19\n |         l1 penalty with SAGA solver (allowing &#39;multinomial&#39; + L1)\n |  \n |  dual : bool, default=False\n |      Dual or primal formulation. Dual formulation is only implemented for\n |      l2 penalty with liblinear solver. Prefer dual=False when\n |      n_samples &gt; n_features.\n |  \n |  tol : float, default=1e-4\n |      Tolerance for stopping criteria.\n |  \n |  C : float, default=1.0\n |      Inverse of regularization strength; must be a positive float.\n |      Like in support vector machines, smaller values specify stronger\n |      regularization.\n |  \n |  fit_intercept : bool, default=True\n |      Specifies if a constant (a.k.a. bias or intercept) should be\n |      added to the decision function.\n |  \n |  intercept_scaling : float, default=1\n |      Useful only when the solver &#39;liblinear&#39; is used\n |      and self.fit_intercept is set to True. In this case, x becomes\n |      [x, self.intercept_scaling],\n |      i.e. a &#34;synthetic&#34; feature with constant value equal to\n |      intercept_scaling is appended to the instance vector.\n |      The intercept becomes ``intercept_scaling * synthetic_feature_weight``.\n |  \n |      Note! the synthetic feature weight is subject to l1/l2 regularization\n |      as all other features.\n |      To lessen the effect of regularization on synthetic feature weight\n |      (and therefore on the intercept) intercept_scaling has to be increased.\n |  \n |  class_weight : dict or &#39;balanced&#39;, default=None\n |      Weights associated with classes in the form ``{class_label: weight}``.\n |      If not given, all classes are supposed to have weight one.\n |  \n |      The &#34;balanced&#34; mode uses the values of y to automatically adjust\n |      weights inversely proportional to class frequencies in the input data\n |      as ``n_samples / (n_classes * np.bincount(y))``.\n |  \n |      Note that these weights will be multiplied with sample_weight (passed\n |      through the fit method) if sample_weight is specified.\n |  \n |      .. versionadded:: 0.17\n |         *class_weight=&#39;balanced&#39;*\n |  \n |  random_state : int, RandomState instance, default=None\n |      Used when ``solver`` == &#39;sag&#39;, &#39;saga&#39; or &#39;liblinear&#39; to shuffle the\n |      data. See :term:`Glossary &lt;random_state&gt;` for details.\n |  \n |  solver : {&#39;newton-cg&#39;, &#39;lbfgs&#39;, &#39;liblinear&#39;, &#39;sag&#39;, &#39;saga&#39;},             default=&#39;lbfgs&#39;\n |  \n |      Algorithm to use in the optimization problem.\n |  \n |      - For small datasets, &#39;liblinear&#39; is a good choice, whereas &#39;sag&#39; and\n |        &#39;saga&#39; are faster for large ones.\n |      - For multiclass problems, only &#39;newton-cg&#39;, &#39;sag&#39;, &#39;saga&#39; and &#39;lbfgs&#39;\n |        handle multinomial loss; &#39;liblinear&#39; is limited to one-versus-rest\n |        schemes.\n |      - &#39;newton-cg&#39;, &#39;lbfgs&#39;, &#39;sag&#39; and &#39;saga&#39; handle L2 or no penalty\n |      - &#39;liblinear&#39; and &#39;saga&#39; also handle L1 penalty\n |      - &#39;saga&#39; also supports &#39;elasticnet&#39; penalty\n |      - &#39;liblinear&#39; does not support setting ``penalty=&#39;none&#39;``\n |  \n |      Note that &#39;sag&#39; and &#39;saga&#39; fast convergence is only guaranteed on\n |      features with approximately the same scale. You can\n |      preprocess the data with a scaler from sklearn.preprocessing.\n |  \n |      .. versionadded:: 0.17\n |         Stochastic Average Gradient descent solver.\n |      .. versionadded:: 0.19\n |         SAGA solver.\n |      .. versionchanged:: 0.22\n |          The default solver changed from &#39;liblinear&#39; to &#39;lbfgs&#39; in 0.22.\n |  \n |  max_iter : int, default=100\n |      Maximum number of iterations taken for the solvers to converge.\n |  \n |  multi_class : {&#39;auto&#39;, &#39;ovr&#39;, &#39;multinomial&#39;}, default=&#39;auto&#39;\n |      If the option chosen is &#39;ovr&#39;, then a binary problem is fit for each\n |      label. For &#39;multinomial&#39; the loss minimised is the multinomial loss fit\n |      across the entire probability distribution, *even when the data is\n |      binary*. &#39;multinomial&#39; is unavailable when solver=&#39;liblinear&#39;.\n |      &#39;auto&#39; selects &#39;ovr&#39; if the data is binary, or if solver=&#39;liblinear&#39;,\n |      and otherwise selects &#39;multinomial&#39;.\n |  \n |      .. versionadded:: 0.18\n |         Stochastic Average Gradient descent solver for &#39;multinomial&#39; case.\n |      .. versionchanged:: 0.22\n |          Default changed from &#39;ovr&#39; to &#39;auto&#39; in 0.22.\n |  \n |  verbose : int, default=0\n |      For the liblinear and lbfgs solvers set verbose to any positive\n |      number for verbosity.\n |  \n |  warm_start : bool, default=False\n |      When set to True, reuse the solution of the previous call to fit as\n |      initialization, otherwise, just erase the previous solution.\n |      Useless for liblinear solver. See :term:`the Glossary &lt;warm_start&gt;`.\n |  \n |      .. versionadded:: 0.17\n |         *warm_start* to support *lbfgs*, *newton-cg*, *sag*, *saga* solvers.\n |  \n |  n_jobs : int, default=None\n |      Number of CPU cores used when parallelizing over classes if\n |      multi_class=&#39;ovr&#39;&#34;. This parameter is ignored when the ``solver`` is\n |      set to &#39;liblinear&#39; regardless of whether &#39;multi_class&#39; is specified or\n |      not. ``None`` means 1 unless in a :obj:`joblib.parallel_backend`\n |      context. ``-1`` means using all processors.\n |      See :term:`Glossary &lt;n_jobs&gt;` for more details.\n |  \n |  l1_ratio : float, default=None\n |      The Elastic-Net mixing parameter, with ``0 &lt;= l1_ratio &lt;= 1``. Only\n |      used if ``penalty=&#39;elasticnet&#39;``. Setting ``l1_ratio=0`` is equivalent\n |      to using ``penalty=&#39;l2&#39;``, while setting ``l1_ratio=1`` is equivalent\n |      to using ``penalty=&#39;l1&#39;``. For ``0 &lt; l1_ratio &lt;1``, the penalty is a\n |      combination of L1 and L2.\n |  \n |  Attributes\n |  ----------\n |  \n |  classes_ : ndarray of shape (n_classes, )\n |      A list of class labels known to the classifier.\n |  \n |  coef_ : ndarray of shape (1, n_features) or (n_classes, n_features)\n |      Coefficient of the features in the decision function.\n |  \n |      `coef_` is of shape (1, n_features) when the given problem is binary.\n |      In particular, when `multi_class=&#39;multinomial&#39;`, `coef_` corresponds\n |      to outcome 1 (True) and `-coef_` corresponds to outcome 0 (False).\n |  \n |  intercept_ : ndarray of shape (1,) or (n_classes,)\n |      Intercept (a.k.a. bias) added to the decision function.\n |  \n |      If `fit_intercept` is set to False, the intercept is set to zero.\n |      `intercept_` is of shape (1,) when the given problem is binary.\n |      In particular, when `multi_class=&#39;multinomial&#39;`, `intercept_`\n |      corresponds to outcome 1 (True) and `-intercept_` corresponds to\n |      outcome 0 (False).\n |  \n |  n_iter_ : ndarray of shape (n_classes,) or (1, )\n |      Actual number of iterations for all classes. If binary or multinomial,\n |      it returns only 1 element. For liblinear solver, only the maximum\n |      number of iteration across all classes is given.\n |  \n |      .. versionchanged:: 0.20\n |  \n |          In SciPy &lt;= 1.0.0 the number of lbfgs iterations may exceed\n |          ``max_iter``. ``n_iter_`` will now report at most ``max_iter``.\n |  \n |  See Also\n |  --------\n |  SGDClassifier : Incrementally trained logistic regression (when given\n |      the parameter ``loss=&#34;log&#34;``).\n |  LogisticRegressionCV : Logistic regression with built-in cross validation.\n |  \n |  Notes\n |  -----\n |  The underlying C implementation uses a random number generator to\n |  select features when fitting the model. It is thus not uncommon,\n |  to have slightly different results for the same input data. If\n |  that happens, try with a smaller tol parameter.\n |  \n |  Predict output may not match that of standalone liblinear in certain\n |  cases. See :ref:`differences from liblinear &lt;liblinear_differences&gt;`\n |  in the narrative documentation.\n |  \n |  References\n |  ----------\n |  \n |  L-BFGS-B -- Software for Large-scale Bound-constrained Optimization\n |      Ciyou Zhu, Richard Byrd, Jorge Nocedal and Jose Luis Morales.\n |      http://users.iems.northwestern.edu/~nocedal/lbfgsb.html\n |  \n |  LIBLINEAR -- A Library for Large Linear Classification\n |      https://www.csie.ntu.edu.tw/~cjlin/liblinear/\n |  \n |  SAG -- Mark Schmidt, Nicolas Le Roux, and Francis Bach\n |      Minimizing Finite Sums with the Stochastic Average Gradient\n |      https://hal.inria.fr/hal-00860051/document\n |  \n |  SAGA -- Defazio, A., Bach F. &amp; Lacoste-Julien S. (2014).\n |      SAGA: A Fast Incremental Gradient Method With Support\n |      for Non-Strongly Convex Composite Objectives\n |      https://arxiv.org/abs/1407.0202\n |  \n |  Hsiang-Fu Yu, Fang-Lan Huang, Chih-Jen Lin (2011). Dual coordinate descent\n |      methods for logistic regression and maximum entropy models.\n |      Machine Learning 85(1-2):41-75.\n |      https://www.csie.ntu.edu.tw/~cjlin/papers/maxent_dual.pdf\n |  \n |  Examples\n |  --------\n |  &gt;&gt;&gt; from sklearn.datasets import load_iris\n |  &gt;&gt;&gt; from sklearn.linear_model import LogisticRegression\n |  &gt;&gt;&gt; X, y = load_iris(return_X_y=True)\n |  &gt;&gt;&gt; clf = LogisticRegression(random_state=0).fit(X, y)\n |  &gt;&gt;&gt; clf.predict(X[:2, :])\n |  array([0, 0])\n |  &gt;&gt;&gt; clf.predict_proba(X[:2, :])\n |  array([[9.8...e-01, 1.8...e-02, 1.4...e-08],\n |         [9.7...e-01, 2.8...e-02, ...e-08]])\n |  &gt;&gt;&gt; clf.score(X, y)\n |  0.97...\n |  \n |  Method resolution order:\n |      LogisticRegression\n |      sklearn.linear_model._base.LinearClassifierMixin\n |      sklearn.base.ClassifierMixin\n |      sklearn.linear_model._base.SparseCoefMixin\n |      sklearn.base.BaseEstimator\n |      builtins.object\n |  \n |  Methods defined here:\n |  \n |  __init__(self, penalty=&#39;l2&#39;, *, dual=False, tol=0.0001, C=1.0, fit_intercept=True, intercept_scaling=1, class_weight=None, random_state=None, solver=&#39;lbfgs&#39;, max_iter=100, multi_class=&#39;auto&#39;, verbose=0, warm_start=False, n_jobs=None, l1_ratio=None)\n |      Initialize self.  See help(type(self)) for accurate signature.\n |  \n |  fit(self, X, y, sample_weight=None)\n |      Fit the model according to the given training data.\n |      \n |      Parameters\n |      ----------\n |      X : {array-like, sparse matrix} of shape (n_samples, n_features)\n |          Training vector, where n_samples is the number of samples and\n |          n_features is the number of features.\n |      \n |      y : array-like of shape (n_samples,)\n |          Target vector relative to X.\n |      \n |      sample_weight : array-like of shape (n_samples,) default=None\n |          Array of weights that are assigned to individual samples.\n |          If not provided, then each sample is given unit weight.\n |      \n |          .. versionadded:: 0.17\n |             *sample_weight* support to LogisticRegression.\n |      \n |      Returns\n |      -------\n |      self\n |          Fitted estimator.\n |      \n |      Notes\n |      -----\n |      The SAGA solver supports both float64 and float32 bit arrays.\n |  \n |  predict(self, X)\n |      Predict class labels for samples in X.\n |      \n |      Parameters\n |      ----------\n |      X : array-like or sparse matrix, shape (n_samples, n_features)\n |          Samples.\n |      \n |      Returns\n |      -------\n |      C : array, shape [n_samples]\n |          Predicted class label per sample.\n |  \n |  predict_log_proba(self, X)\n |      Predict logarithm of probability estimates.\n |      \n |      The returned estimates for all classes are ordered by the\n |      label of classes.\n |      \n |      Parameters\n |      ----------\n |      X : array-like of shape (n_samples, n_features)\n |          Vector to be scored, where `n_samples` is the number of samples and\n |          `n_features` is the number of features.\n |      \n |      Returns\n |      -------\n |      T : array-like of shape (n_samples, n_classes)\n |          Returns the log-probability of the sample for each class in the\n |          model, where classes are ordered as they are in ``self.classes_``.\n |  \n |  predict_proba(self, X)\n |      Probability estimates.\n |      \n |      The returned estimates for all classes are ordered by the\n |      label of classes.\n |      \n |      For a multi_class problem, if multi_class is set to be &#34;multinomial&#34;\n |      the softmax function is used to find the predicted probability of\n |      each class.\n |      Else use a one-vs-rest approach, i.e calculate the probability\n |      of each class assuming it to be positive using the logistic function.\n |      and normalize these values across all the classes.\n |      \n |      Parameters\n |      ----------\n |      X : array-like of shape (n_samples, n_features)\n |          Vector to be scored, where `n_samples` is the number of samples and\n |          `n_features` is the number of features.\n |      \n |      Returns\n |      -------\n |      T : array-like of shape (n_samples, n_classes)\n |          Returns the probability of the sample for each class in the model,\n |          where classes are ordered as they are in ``self.classes_``.\n |  \n |  score(self, X, y, sample_weight=None)\n |      Return the mean accuracy on the given test data and labels.\n |      \n |      In multi-label classification, this is the subset accuracy\n |      which is a harsh metric since you require for each sample that\n |      each label set be correctly predicted.\n |      \n |      Parameters\n |      ----------\n |      X : array-like of shape (n_samples, n_features)\n |          Test samples.\n |      \n |      y : array-like of shape (n_samples,) or (n_samples, n_outputs)\n |          True labels for `X`.\n |      \n |      sample_weight : array-like of shape (n_samples,), default=None\n |          Sample weights.\n |      \n |      Returns\n |      -------\n |      score : float\n |          Mean accuracy of ``self.predict(X)`` wrt. `y`.\n |  \n |  ----------------------------------------------------------------------\n |  Methods inherited from sklearn.linear_model._base.LinearClassifierMixin:\n |  \n |  decision_function(self, X)\n |      Predict confidence scores for samples.\n |      \n |      The confidence score for a sample is proportional to the signed\n |      distance of that sample to the hyperplane.\n |      \n |      Parameters\n |      ----------\n |      X : array-like or sparse matrix, shape (n_samples, n_features)\n |          Samples.\n |      \n |      Returns\n |      -------\n |      array, shape=(n_samples,) if n_classes == 2 else (n_samples, n_classes)\n |          Confidence scores per (sample, class) combination. In the binary\n |          case, confidence score for self.classes_[1] where &gt;0 means this\n |          class would be predicted.\n |  \n |  ----------------------------------------------------------------------\n |  Data descriptors inherited from sklearn.base.ClassifierMixin:\n |  \n |  __dict__\n |      dictionary for instance variables (if defined)\n |  \n |  __weakref__\n |      list of weak references to the object (if defined)\n |  \n |  ----------------------------------------------------------------------\n |  Methods inherited from sklearn.linear_model._base.SparseCoefMixin:\n |  \n |  densify(self)\n |      Convert coefficient matrix to dense array format.\n |      \n |      Converts the ``coef_`` member (back) to a numpy.ndarray. This is the\n |      default format of ``coef_`` and is required for fitting, so calling\n |      this method is only required on models that have previously been\n |      sparsified; otherwise, it is a no-op.\n |      \n |      Returns\n |      -------\n |      self\n |          Fitted estimator.\n |  \n |  sparsify(self)\n |      Convert coefficient matrix to sparse format.\n |      \n |      Converts the ``coef_`` member to a scipy.sparse matrix, which for\n |      L1-regularized models can be much more memory- and storage-efficient\n |      than the usual numpy.ndarray representation.\n |      \n |      The ``intercept_`` member is not converted.\n |      \n |      Returns\n |      -------\n |      self\n |          Fitted estimator.\n |      \n |      Notes\n |      -----\n |      For non-sparse models, i.e. when there are not many zeros in ``coef_``,\n |      this may actually *increase* memory usage, so use this method with\n |      care. A rule of thumb is that the number of zero elements, which can\n |      be computed with ``(coef_ == 0).sum()``, must be more than 50% for this\n |      to provide significant benefits.\n |      \n |      After calling this method, further fitting with the partial_fit\n |      method (if any) will not work until you call densify.\n |  \n |  ----------------------------------------------------------------------\n |  Methods inherited from sklearn.base.BaseEstimator:\n |  \n |  __getstate__(self)\n |  \n |  __repr__(self, N_CHAR_MAX=700)\n |      Return repr(self).\n |  \n |  __setstate__(self, state)\n |  \n |  get_params(self, deep=True)\n |      Get parameters for this estimator.\n |      \n |      Parameters\n |      ----------\n |      deep : bool, default=True\n |          If True, will return the parameters for this estimator and\n |          contained subobjects that are estimators.\n |      \n |      Returns\n |      -------\n |      params : dict\n |          Parameter names mapped to their values.\n |  \n |  set_params(self, **params)\n |      Set the parameters of this estimator.\n |      \n |      The method works on simple estimators as well as on nested objects\n |      (such as :class:`~sklearn.pipeline.Pipeline`). The latter have\n |      parameters of the form ``&lt;component&gt;__&lt;parameter&gt;`` so that it&#39;s\n |      possible to update each component of a nested object.\n |      \n |      Parameters\n |      ----------\n |      **params : dict\n |          Estimator parameters.\n |      \n |      Returns\n |      -------\n |      self : estimator instance\n |          Estimator instance.\n\n</div>",
       "datasetInfos": [],
       "metadata": {},
       "removedWidgets": [],
       "type": "html"
      }
     },
     "output_type": "display_data"
    }
   ],
   "source": [
    "from sklearn.linear_model import LogisticRegression\n",
    "\n",
    "help(LogisticRegression)"
   ]
  },
  {
   "cell_type": "code",
   "execution_count": 0,
   "metadata": {
    "application/vnd.databricks.v1+cell": {
     "cellMetadata": {
      "byteLimit": 2048000,
      "rowLimit": 10000
     },
     "inputWidgets": {},
     "nuid": "bced6adf-dc7e-4142-b8db-3e94b8c7bbca",
     "showTitle": false,
     "title": ""
    },
    "execution": {
     "iopub.execute_input": "2023-08-04T00:28:51.799985Z",
     "iopub.status.busy": "2023-08-04T00:28:51.798359Z",
     "iopub.status.idle": "2023-08-04T00:28:51.961794Z",
     "shell.execute_reply": "2023-08-04T00:28:51.963036Z"
    }
   },
   "outputs": [
    {
     "output_type": "display_data",
     "data": {
      "text/html": [
       "<style scoped>\n",
       "  .ansiout {\n",
       "    display: block;\n",
       "    unicode-bidi: embed;\n",
       "    white-space: pre-wrap;\n",
       "    word-wrap: break-word;\n",
       "    word-break: break-all;\n",
       "    font-family: \"Source Code Pro\", \"Menlo\", monospace;;\n",
       "    font-size: 13px;\n",
       "    color: #555;\n",
       "    margin-left: 4px;\n",
       "    line-height: 19px;\n",
       "  }\n",
       "</style>\n",
       "<div class=\"ansiout\">Out[10]: </div>"
      ]
     },
     "metadata": {
      "application/vnd.databricks.v1+output": {
       "addedWidgets": {},
       "arguments": {},
       "data": "<div class=\"ansiout\">Out[10]: </div>",
       "datasetInfos": [],
       "metadata": {},
       "removedWidgets": [],
       "type": "html"
      }
     },
     "output_type": "display_data"
    },
    {
     "output_type": "display_data",
     "data": {
      "text/html": [
       "<style>div.sk-top-container {color: black;background-color: white;}div.sk-toggleable {background-color: white;}label.sk-toggleable__label {cursor: pointer;display: block;width: 100%;margin-bottom: 0;padding: 0.2em 0.3em;box-sizing: border-box;text-align: center;}div.sk-toggleable__content {max-height: 0;max-width: 0;overflow: hidden;text-align: left;background-color: #f0f8ff;}div.sk-toggleable__content pre {margin: 0.2em;color: black;border-radius: 0.25em;background-color: #f0f8ff;}input.sk-toggleable__control:checked~div.sk-toggleable__content {max-height: 200px;max-width: 100%;overflow: auto;}div.sk-estimator input.sk-toggleable__control:checked~label.sk-toggleable__label {background-color: #d4ebff;}div.sk-label input.sk-toggleable__control:checked~label.sk-toggleable__label {background-color: #d4ebff;}input.sk-hidden--visually {border: 0;clip: rect(1px 1px 1px 1px);clip: rect(1px, 1px, 1px, 1px);height: 1px;margin: -1px;overflow: hidden;padding: 0;position: absolute;width: 1px;}div.sk-estimator {font-family: monospace;background-color: #f0f8ff;margin: 0.25em 0.25em;border: 1px dotted black;border-radius: 0.25em;box-sizing: border-box;}div.sk-estimator:hover {background-color: #d4ebff;}div.sk-parallel-item::after {content: \"\";width: 100%;border-bottom: 1px solid gray;flex-grow: 1;}div.sk-label:hover label.sk-toggleable__label {background-color: #d4ebff;}div.sk-serial::before {content: \"\";position: absolute;border-left: 1px solid gray;box-sizing: border-box;top: 2em;bottom: 0;left: 50%;}div.sk-serial {display: flex;flex-direction: column;align-items: center;background-color: white;}div.sk-item {z-index: 1;}div.sk-parallel {display: flex;align-items: stretch;justify-content: center;background-color: white;}div.sk-parallel-item {display: flex;flex-direction: column;position: relative;background-color: white;}div.sk-parallel-item:first-child::after {align-self: flex-end;width: 50%;}div.sk-parallel-item:last-child::after {align-self: flex-start;width: 50%;}div.sk-parallel-item:only-child::after {width: 0;}div.sk-dashed-wrapped {border: 1px dashed gray;margin: 0.2em;box-sizing: border-box;padding-bottom: 0.1em;background-color: white;position: relative;}div.sk-label label {font-family: monospace;font-weight: bold;background-color: white;display: inline-block;line-height: 1.2em;}div.sk-label-container {position: relative;z-index: 2;text-align: center;}div.sk-container {display: inline-block;position: relative;}</style><div class=\"sk-top-container\"><div class=\"sk-container\"><div class=\"sk-item sk-dashed-wrapped\"><div class=\"sk-label-container\"><div class=\"sk-label sk-toggleable\"><input class=\"sk-toggleable__control sk-hidden--visually\" id=\"8e4a2a16-f963-4d8f-ba66-a28fc0ebe0fb\" type=\"checkbox\" ><label class=\"sk-toggleable__label\" for=\"8e4a2a16-f963-4d8f-ba66-a28fc0ebe0fb\">Pipeline</label><div class=\"sk-toggleable__content\"><pre>Pipeline(steps=[('column_selector',\n",
       "                 ColumnSelector(cols=['Age', 'BloodPressure', 'Insulin', 'BMI',\n",
       "                                      'SkinThickness',\n",
       "                                      'DiabetesPedigreeFunction', 'Pregnancies',\n",
       "                                      'Glucose'])),\n",
       "                ('preprocessor',\n",
       "                 ColumnTransformer(remainder='passthrough', sparse_threshold=0,\n",
       "                                   transformers=[('numerical',\n",
       "                                                  Pipeline(steps=[('converter',\n",
       "                                                                   FunctionTransformer(func=<function <lambda> at 0x7fcc711...\n",
       "                                                                                                    SimpleImputer(),\n",
       "                                                                                                    ['Age',\n",
       "                                                                                                     'BMI',\n",
       "                                                                                                     'BloodPressure',\n",
       "                                                                                                     'DiabetesPedigreeFunction',\n",
       "                                                                                                     'Glucose',\n",
       "                                                                                                     'Insulin',\n",
       "                                                                                                     'Pregnancies',\n",
       "                                                                                                     'SkinThickness'])]))]),\n",
       "                                                  ['Age', 'BloodPressure',\n",
       "                                                   'Insulin', 'BMI',\n",
       "                                                   'SkinThickness',\n",
       "                                                   'DiabetesPedigreeFunction',\n",
       "                                                   'Pregnancies',\n",
       "                                                   'Glucose'])])),\n",
       "                ('standardizer', StandardScaler()),\n",
       "                ('classifier',\n",
       "                 LogisticRegression(C=0.08488618549946696,\n",
       "                                    random_state=533288322))])</pre></div></div></div><div class=\"sk-serial\"><div class=\"sk-item\"><div class=\"sk-estimator sk-toggleable\"><input class=\"sk-toggleable__control sk-hidden--visually\" id=\"cc89b3f5-9e87-4b98-bb58-d1df0f9459af\" type=\"checkbox\" ><label class=\"sk-toggleable__label\" for=\"cc89b3f5-9e87-4b98-bb58-d1df0f9459af\">ColumnSelector</label><div class=\"sk-toggleable__content\"><pre>ColumnSelector(cols=['Age', 'BloodPressure', 'Insulin', 'BMI', 'SkinThickness',\n",
       "                     'DiabetesPedigreeFunction', 'Pregnancies', 'Glucose'])</pre></div></div></div><div class=\"sk-item sk-dashed-wrapped\"><div class=\"sk-label-container\"><div class=\"sk-label sk-toggleable\"><input class=\"sk-toggleable__control sk-hidden--visually\" id=\"c5b72c53-bcab-49a5-af3a-112376a62fc9\" type=\"checkbox\" ><label class=\"sk-toggleable__label\" for=\"c5b72c53-bcab-49a5-af3a-112376a62fc9\">preprocessor: ColumnTransformer</label><div class=\"sk-toggleable__content\"><pre>ColumnTransformer(remainder='passthrough', sparse_threshold=0,\n",
       "                  transformers=[('numerical',\n",
       "                                 Pipeline(steps=[('converter',\n",
       "                                                  FunctionTransformer(func=<function <lambda> at 0x7fcc71107670>)),\n",
       "                                                 ('imputers',\n",
       "                                                  ColumnTransformer(sparse_threshold=0,\n",
       "                                                                    transformers=[('impute_mean',\n",
       "                                                                                   SimpleImputer(),\n",
       "                                                                                   ['Age',\n",
       "                                                                                    'BMI',\n",
       "                                                                                    'BloodPressure',\n",
       "                                                                                    'DiabetesPedigreeFunction',\n",
       "                                                                                    'Glucose',\n",
       "                                                                                    'Insulin',\n",
       "                                                                                    'Pregnancies',\n",
       "                                                                                    'SkinThickness'])]))]),\n",
       "                                 ['Age', 'BloodPressure', 'Insulin', 'BMI',\n",
       "                                  'SkinThickness', 'DiabetesPedigreeFunction',\n",
       "                                  'Pregnancies', 'Glucose'])])</pre></div></div></div><div class=\"sk-parallel\"><div class=\"sk-parallel-item\"><div class=\"sk-item\"><div class=\"sk-label-container\"><div class=\"sk-label sk-toggleable\"><input class=\"sk-toggleable__control sk-hidden--visually\" id=\"8d093226-a92e-4500-889d-871048672cd0\" type=\"checkbox\" ><label class=\"sk-toggleable__label\" for=\"8d093226-a92e-4500-889d-871048672cd0\">numerical</label><div class=\"sk-toggleable__content\"><pre>['Age', 'BloodPressure', 'Insulin', 'BMI', 'SkinThickness', 'DiabetesPedigreeFunction', 'Pregnancies', 'Glucose']</pre></div></div></div><div class=\"sk-serial\"><div class=\"sk-item\"><div class=\"sk-serial\"><div class=\"sk-item\"><div class=\"sk-estimator sk-toggleable\"><input class=\"sk-toggleable__control sk-hidden--visually\" id=\"d75821e1-47e5-4e00-abca-626521b74da8\" type=\"checkbox\" ><label class=\"sk-toggleable__label\" for=\"d75821e1-47e5-4e00-abca-626521b74da8\">FunctionTransformer</label><div class=\"sk-toggleable__content\"><pre>FunctionTransformer(func=<function <lambda> at 0x7fcc71107670>)</pre></div></div></div><div class=\"sk-item sk-dashed-wrapped\"><div class=\"sk-label-container\"><div class=\"sk-label sk-toggleable\"><input class=\"sk-toggleable__control sk-hidden--visually\" id=\"f9c98faa-cbaa-4c00-9032-dd334d5bd84a\" type=\"checkbox\" ><label class=\"sk-toggleable__label\" for=\"f9c98faa-cbaa-4c00-9032-dd334d5bd84a\">imputers: ColumnTransformer</label><div class=\"sk-toggleable__content\"><pre>ColumnTransformer(sparse_threshold=0,\n",
       "                  transformers=[('impute_mean', SimpleImputer(),\n",
       "                                 ['Age', 'BMI', 'BloodPressure',\n",
       "                                  'DiabetesPedigreeFunction', 'Glucose',\n",
       "                                  'Insulin', 'Pregnancies', 'SkinThickness'])])</pre></div></div></div><div class=\"sk-parallel\"><div class=\"sk-parallel-item\"><div class=\"sk-item\"><div class=\"sk-label-container\"><div class=\"sk-label sk-toggleable\"><input class=\"sk-toggleable__control sk-hidden--visually\" id=\"59765e58-2c09-4e95-a2fc-8a6c4a15e027\" type=\"checkbox\" ><label class=\"sk-toggleable__label\" for=\"59765e58-2c09-4e95-a2fc-8a6c4a15e027\">impute_mean</label><div class=\"sk-toggleable__content\"><pre>['Age', 'BMI', 'BloodPressure', 'DiabetesPedigreeFunction', 'Glucose', 'Insulin', 'Pregnancies', 'SkinThickness']</pre></div></div></div><div class=\"sk-serial\"><div class=\"sk-item\"><div class=\"sk-estimator sk-toggleable\"><input class=\"sk-toggleable__control sk-hidden--visually\" id=\"d72eb4c4-3e2c-491c-9ce2-effdd51c18d2\" type=\"checkbox\" ><label class=\"sk-toggleable__label\" for=\"d72eb4c4-3e2c-491c-9ce2-effdd51c18d2\">SimpleImputer</label><div class=\"sk-toggleable__content\"><pre>SimpleImputer()</pre></div></div></div></div></div></div></div></div></div></div></div></div></div><div class=\"sk-parallel-item\"><div class=\"sk-item\"><div class=\"sk-label-container\"><div class=\"sk-label sk-toggleable\"><input class=\"sk-toggleable__control sk-hidden--visually\" id=\"579fab66-d6ac-46f4-bba6-372de424ec90\" type=\"checkbox\" ><label class=\"sk-toggleable__label\" for=\"579fab66-d6ac-46f4-bba6-372de424ec90\">remainder</label><div class=\"sk-toggleable__content\"><pre></pre></div></div></div><div class=\"sk-serial\"><div class=\"sk-item\"><div class=\"sk-estimator sk-toggleable\"><input class=\"sk-toggleable__control sk-hidden--visually\" id=\"20222026-cedf-4275-93d7-53b647be4af8\" type=\"checkbox\" ><label class=\"sk-toggleable__label\" for=\"20222026-cedf-4275-93d7-53b647be4af8\">passthrough</label><div class=\"sk-toggleable__content\"><pre>passthrough</pre></div></div></div></div></div></div></div></div><div class=\"sk-item\"><div class=\"sk-estimator sk-toggleable\"><input class=\"sk-toggleable__control sk-hidden--visually\" id=\"80c82cbc-5880-4209-9f95-28b0fd390392\" type=\"checkbox\" ><label class=\"sk-toggleable__label\" for=\"80c82cbc-5880-4209-9f95-28b0fd390392\">StandardScaler</label><div class=\"sk-toggleable__content\"><pre>StandardScaler()</pre></div></div></div><div class=\"sk-item\"><div class=\"sk-estimator sk-toggleable\"><input class=\"sk-toggleable__control sk-hidden--visually\" id=\"f863d42e-50cb-44b8-b7a4-810a0daebf1e\" type=\"checkbox\" ><label class=\"sk-toggleable__label\" for=\"f863d42e-50cb-44b8-b7a4-810a0daebf1e\">LogisticRegression</label><div class=\"sk-toggleable__content\"><pre>LogisticRegression(C=0.08488618549946696, random_state=533288322)</pre></div></div></div></div></div></div></div>"
      ]
     },
     "metadata": {
      "application/vnd.databricks.v1+output": {
       "addedWidgets": {},
       "arguments": {},
       "data": "<style>div.sk-top-container {color: black;background-color: white;}div.sk-toggleable {background-color: white;}label.sk-toggleable__label {cursor: pointer;display: block;width: 100%;margin-bottom: 0;padding: 0.2em 0.3em;box-sizing: border-box;text-align: center;}div.sk-toggleable__content {max-height: 0;max-width: 0;overflow: hidden;text-align: left;background-color: #f0f8ff;}div.sk-toggleable__content pre {margin: 0.2em;color: black;border-radius: 0.25em;background-color: #f0f8ff;}input.sk-toggleable__control:checked~div.sk-toggleable__content {max-height: 200px;max-width: 100%;overflow: auto;}div.sk-estimator input.sk-toggleable__control:checked~label.sk-toggleable__label {background-color: #d4ebff;}div.sk-label input.sk-toggleable__control:checked~label.sk-toggleable__label {background-color: #d4ebff;}input.sk-hidden--visually {border: 0;clip: rect(1px 1px 1px 1px);clip: rect(1px, 1px, 1px, 1px);height: 1px;margin: -1px;overflow: hidden;padding: 0;position: absolute;width: 1px;}div.sk-estimator {font-family: monospace;background-color: #f0f8ff;margin: 0.25em 0.25em;border: 1px dotted black;border-radius: 0.25em;box-sizing: border-box;}div.sk-estimator:hover {background-color: #d4ebff;}div.sk-parallel-item::after {content: \"\";width: 100%;border-bottom: 1px solid gray;flex-grow: 1;}div.sk-label:hover label.sk-toggleable__label {background-color: #d4ebff;}div.sk-serial::before {content: \"\";position: absolute;border-left: 1px solid gray;box-sizing: border-box;top: 2em;bottom: 0;left: 50%;}div.sk-serial {display: flex;flex-direction: column;align-items: center;background-color: white;}div.sk-item {z-index: 1;}div.sk-parallel {display: flex;align-items: stretch;justify-content: center;background-color: white;}div.sk-parallel-item {display: flex;flex-direction: column;position: relative;background-color: white;}div.sk-parallel-item:first-child::after {align-self: flex-end;width: 50%;}div.sk-parallel-item:last-child::after {align-self: flex-start;width: 50%;}div.sk-parallel-item:only-child::after {width: 0;}div.sk-dashed-wrapped {border: 1px dashed gray;margin: 0.2em;box-sizing: border-box;padding-bottom: 0.1em;background-color: white;position: relative;}div.sk-label label {font-family: monospace;font-weight: bold;background-color: white;display: inline-block;line-height: 1.2em;}div.sk-label-container {position: relative;z-index: 2;text-align: center;}div.sk-container {display: inline-block;position: relative;}</style><div class=\"sk-top-container\"><div class=\"sk-container\"><div class=\"sk-item sk-dashed-wrapped\"><div class=\"sk-label-container\"><div class=\"sk-label sk-toggleable\"><input class=\"sk-toggleable__control sk-hidden--visually\" id=\"8e4a2a16-f963-4d8f-ba66-a28fc0ebe0fb\" type=\"checkbox\" ><label class=\"sk-toggleable__label\" for=\"8e4a2a16-f963-4d8f-ba66-a28fc0ebe0fb\">Pipeline</label><div class=\"sk-toggleable__content\"><pre>Pipeline(steps=[('column_selector',\n                 ColumnSelector(cols=['Age', 'BloodPressure', 'Insulin', 'BMI',\n                                      'SkinThickness',\n                                      'DiabetesPedigreeFunction', 'Pregnancies',\n                                      'Glucose'])),\n                ('preprocessor',\n                 ColumnTransformer(remainder='passthrough', sparse_threshold=0,\n                                   transformers=[('numerical',\n                                                  Pipeline(steps=[('converter',\n                                                                   FunctionTransformer(func=<function <lambda> at 0x7fcc711...\n                                                                                                    SimpleImputer(),\n                                                                                                    ['Age',\n                                                                                                     'BMI',\n                                                                                                     'BloodPressure',\n                                                                                                     'DiabetesPedigreeFunction',\n                                                                                                     'Glucose',\n                                                                                                     'Insulin',\n                                                                                                     'Pregnancies',\n                                                                                                     'SkinThickness'])]))]),\n                                                  ['Age', 'BloodPressure',\n                                                   'Insulin', 'BMI',\n                                                   'SkinThickness',\n                                                   'DiabetesPedigreeFunction',\n                                                   'Pregnancies',\n                                                   'Glucose'])])),\n                ('standardizer', StandardScaler()),\n                ('classifier',\n                 LogisticRegression(C=0.08488618549946696,\n                                    random_state=533288322))])</pre></div></div></div><div class=\"sk-serial\"><div class=\"sk-item\"><div class=\"sk-estimator sk-toggleable\"><input class=\"sk-toggleable__control sk-hidden--visually\" id=\"cc89b3f5-9e87-4b98-bb58-d1df0f9459af\" type=\"checkbox\" ><label class=\"sk-toggleable__label\" for=\"cc89b3f5-9e87-4b98-bb58-d1df0f9459af\">ColumnSelector</label><div class=\"sk-toggleable__content\"><pre>ColumnSelector(cols=['Age', 'BloodPressure', 'Insulin', 'BMI', 'SkinThickness',\n                     'DiabetesPedigreeFunction', 'Pregnancies', 'Glucose'])</pre></div></div></div><div class=\"sk-item sk-dashed-wrapped\"><div class=\"sk-label-container\"><div class=\"sk-label sk-toggleable\"><input class=\"sk-toggleable__control sk-hidden--visually\" id=\"c5b72c53-bcab-49a5-af3a-112376a62fc9\" type=\"checkbox\" ><label class=\"sk-toggleable__label\" for=\"c5b72c53-bcab-49a5-af3a-112376a62fc9\">preprocessor: ColumnTransformer</label><div class=\"sk-toggleable__content\"><pre>ColumnTransformer(remainder='passthrough', sparse_threshold=0,\n                  transformers=[('numerical',\n                                 Pipeline(steps=[('converter',\n                                                  FunctionTransformer(func=<function <lambda> at 0x7fcc71107670>)),\n                                                 ('imputers',\n                                                  ColumnTransformer(sparse_threshold=0,\n                                                                    transformers=[('impute_mean',\n                                                                                   SimpleImputer(),\n                                                                                   ['Age',\n                                                                                    'BMI',\n                                                                                    'BloodPressure',\n                                                                                    'DiabetesPedigreeFunction',\n                                                                                    'Glucose',\n                                                                                    'Insulin',\n                                                                                    'Pregnancies',\n                                                                                    'SkinThickness'])]))]),\n                                 ['Age', 'BloodPressure', 'Insulin', 'BMI',\n                                  'SkinThickness', 'DiabetesPedigreeFunction',\n                                  'Pregnancies', 'Glucose'])])</pre></div></div></div><div class=\"sk-parallel\"><div class=\"sk-parallel-item\"><div class=\"sk-item\"><div class=\"sk-label-container\"><div class=\"sk-label sk-toggleable\"><input class=\"sk-toggleable__control sk-hidden--visually\" id=\"8d093226-a92e-4500-889d-871048672cd0\" type=\"checkbox\" ><label class=\"sk-toggleable__label\" for=\"8d093226-a92e-4500-889d-871048672cd0\">numerical</label><div class=\"sk-toggleable__content\"><pre>['Age', 'BloodPressure', 'Insulin', 'BMI', 'SkinThickness', 'DiabetesPedigreeFunction', 'Pregnancies', 'Glucose']</pre></div></div></div><div class=\"sk-serial\"><div class=\"sk-item\"><div class=\"sk-serial\"><div class=\"sk-item\"><div class=\"sk-estimator sk-toggleable\"><input class=\"sk-toggleable__control sk-hidden--visually\" id=\"d75821e1-47e5-4e00-abca-626521b74da8\" type=\"checkbox\" ><label class=\"sk-toggleable__label\" for=\"d75821e1-47e5-4e00-abca-626521b74da8\">FunctionTransformer</label><div class=\"sk-toggleable__content\"><pre>FunctionTransformer(func=<function <lambda> at 0x7fcc71107670>)</pre></div></div></div><div class=\"sk-item sk-dashed-wrapped\"><div class=\"sk-label-container\"><div class=\"sk-label sk-toggleable\"><input class=\"sk-toggleable__control sk-hidden--visually\" id=\"f9c98faa-cbaa-4c00-9032-dd334d5bd84a\" type=\"checkbox\" ><label class=\"sk-toggleable__label\" for=\"f9c98faa-cbaa-4c00-9032-dd334d5bd84a\">imputers: ColumnTransformer</label><div class=\"sk-toggleable__content\"><pre>ColumnTransformer(sparse_threshold=0,\n                  transformers=[('impute_mean', SimpleImputer(),\n                                 ['Age', 'BMI', 'BloodPressure',\n                                  'DiabetesPedigreeFunction', 'Glucose',\n                                  'Insulin', 'Pregnancies', 'SkinThickness'])])</pre></div></div></div><div class=\"sk-parallel\"><div class=\"sk-parallel-item\"><div class=\"sk-item\"><div class=\"sk-label-container\"><div class=\"sk-label sk-toggleable\"><input class=\"sk-toggleable__control sk-hidden--visually\" id=\"59765e58-2c09-4e95-a2fc-8a6c4a15e027\" type=\"checkbox\" ><label class=\"sk-toggleable__label\" for=\"59765e58-2c09-4e95-a2fc-8a6c4a15e027\">impute_mean</label><div class=\"sk-toggleable__content\"><pre>['Age', 'BMI', 'BloodPressure', 'DiabetesPedigreeFunction', 'Glucose', 'Insulin', 'Pregnancies', 'SkinThickness']</pre></div></div></div><div class=\"sk-serial\"><div class=\"sk-item\"><div class=\"sk-estimator sk-toggleable\"><input class=\"sk-toggleable__control sk-hidden--visually\" id=\"d72eb4c4-3e2c-491c-9ce2-effdd51c18d2\" type=\"checkbox\" ><label class=\"sk-toggleable__label\" for=\"d72eb4c4-3e2c-491c-9ce2-effdd51c18d2\">SimpleImputer</label><div class=\"sk-toggleable__content\"><pre>SimpleImputer()</pre></div></div></div></div></div></div></div></div></div></div></div></div></div><div class=\"sk-parallel-item\"><div class=\"sk-item\"><div class=\"sk-label-container\"><div class=\"sk-label sk-toggleable\"><input class=\"sk-toggleable__control sk-hidden--visually\" id=\"579fab66-d6ac-46f4-bba6-372de424ec90\" type=\"checkbox\" ><label class=\"sk-toggleable__label\" for=\"579fab66-d6ac-46f4-bba6-372de424ec90\">remainder</label><div class=\"sk-toggleable__content\"><pre></pre></div></div></div><div class=\"sk-serial\"><div class=\"sk-item\"><div class=\"sk-estimator sk-toggleable\"><input class=\"sk-toggleable__control sk-hidden--visually\" id=\"20222026-cedf-4275-93d7-53b647be4af8\" type=\"checkbox\" ><label class=\"sk-toggleable__label\" for=\"20222026-cedf-4275-93d7-53b647be4af8\">passthrough</label><div class=\"sk-toggleable__content\"><pre>passthrough</pre></div></div></div></div></div></div></div></div><div class=\"sk-item\"><div class=\"sk-estimator sk-toggleable\"><input class=\"sk-toggleable__control sk-hidden--visually\" id=\"80c82cbc-5880-4209-9f95-28b0fd390392\" type=\"checkbox\" ><label class=\"sk-toggleable__label\" for=\"80c82cbc-5880-4209-9f95-28b0fd390392\">StandardScaler</label><div class=\"sk-toggleable__content\"><pre>StandardScaler()</pre></div></div></div><div class=\"sk-item\"><div class=\"sk-estimator sk-toggleable\"><input class=\"sk-toggleable__control sk-hidden--visually\" id=\"f863d42e-50cb-44b8-b7a4-810a0daebf1e\" type=\"checkbox\" ><label class=\"sk-toggleable__label\" for=\"f863d42e-50cb-44b8-b7a4-810a0daebf1e\">LogisticRegression</label><div class=\"sk-toggleable__content\"><pre>LogisticRegression(C=0.08488618549946696, random_state=533288322)</pre></div></div></div></div></div></div></div>",
       "datasetInfos": [],
       "metadata": {},
       "removedWidgets": [],
       "textData": null,
       "type": "htmlSandbox"
      }
     },
     "output_type": "display_data"
    }
   ],
   "source": [
    "import mlflow\n",
    "import sklearn\n",
    "from sklearn import set_config\n",
    "from sklearn.pipeline import Pipeline\n",
    "\n",
    "set_config(display=\"diagram\")\n",
    "\n",
    "sklr_classifier = LogisticRegression(\n",
    "  C=0.08488618549946696,\n",
    "  penalty=\"l2\",\n",
    "  random_state=533288322,\n",
    ")\n",
    "\n",
    "model = Pipeline([\n",
    "    (\"column_selector\", col_selector),\n",
    "    (\"preprocessor\", preprocessor),\n",
    "    (\"standardizer\", standardizer),\n",
    "    (\"classifier\", sklr_classifier),\n",
    "])\n",
    "\n",
    "model"
   ]
  },
  {
   "cell_type": "code",
   "execution_count": 0,
   "metadata": {
    "application/vnd.databricks.v1+cell": {
     "cellMetadata": {
      "byteLimit": 2048000,
      "rowLimit": 10000
     },
     "inputWidgets": {},
     "nuid": "ef0ccad9-52ac-4caf-ab8c-37c328492db2",
     "showTitle": false,
     "title": ""
    },
    "execution": {
     "iopub.execute_input": "2023-08-04T00:28:51.969123Z",
     "iopub.status.busy": "2023-08-04T00:28:51.967177Z",
     "iopub.status.idle": "2023-08-04T00:29:01.640753Z",
     "shell.execute_reply": "2023-08-04T00:29:01.640164Z"
    }
   },
   "outputs": [
    {
     "output_type": "display_data",
     "data": {
      "text/html": [
       "<style scoped>\n",
       "  .table-result-container {\n",
       "    max-height: 300px;\n",
       "    overflow: auto;\n",
       "  }\n",
       "  table, th, td {\n",
       "    border: 1px solid black;\n",
       "    border-collapse: collapse;\n",
       "  }\n",
       "  th, td {\n",
       "    padding: 5px;\n",
       "  }\n",
       "  th {\n",
       "    text-align: left;\n",
       "  }\n",
       "</style><div class='table-result-container'><table class='table-result'><thead style='background-color: white'><tr><th>precision_score</th><th>recall_score</th><th>f1_score</th><th>accuracy_score</th><th>log_loss</th><th>roc_auc_score</th><th>score</th></tr></thead><tbody><tr><td>0.787886731005997</td><td>0.7922077922077922</td><td>0.7876844244191182</td><td>0.7922077922077922</td><td>0.48740154992463874</td><td>0.8283205679058473</td><td>0.7922077922077922</td></tr><tr><td>0.7255803069756558</td><td>0.7337662337662337</td><td>0.7256102474747123</td><td>0.7337662337662337</td><td>0.48809345453223846</td><td>0.8364814814814816</td><td>0.7337662337662337</td></tr></tbody></table></div>"
      ]
     },
     "metadata": {
      "application/vnd.databricks.v1+output": {
       "addedWidgets": {},
       "aggData": [],
       "aggError": "",
       "aggOverflow": false,
       "aggSchema": [],
       "aggSeriesLimitReached": false,
       "aggType": "",
       "arguments": {},
       "columnCustomDisplayInfos": {},
       "data": [
        [
         0.787886731005997,
         0.7922077922077922,
         0.7876844244191182,
         0.7922077922077922,
         0.48740154992463874,
         0.8283205679058473,
         0.7922077922077922
        ],
        [
         0.7255803069756558,
         0.7337662337662337,
         0.7256102474747123,
         0.7337662337662337,
         0.48809345453223846,
         0.8364814814814816,
         0.7337662337662337
        ]
       ],
       "datasetInfos": [],
       "dbfsResultPath": null,
       "isJsonSchema": true,
       "metadata": {},
       "overflow": false,
       "plotOptions": {
        "customPlotOptions": {},
        "displayType": "table",
        "pivotAggregation": null,
        "pivotColumns": null,
        "xColumns": null,
        "yColumns": null
       },
       "removedWidgets": [],
       "schema": [
        {
         "metadata": "{}",
         "name": "precision_score",
         "type": "\"double\""
        },
        {
         "metadata": "{}",
         "name": "recall_score",
         "type": "\"double\""
        },
        {
         "metadata": "{}",
         "name": "f1_score",
         "type": "\"double\""
        },
        {
         "metadata": "{}",
         "name": "accuracy_score",
         "type": "\"double\""
        },
        {
         "metadata": "{}",
         "name": "log_loss",
         "type": "\"double\""
        },
        {
         "metadata": "{}",
         "name": "roc_auc_score",
         "type": "\"double\""
        },
        {
         "metadata": "{}",
         "name": "score",
         "type": "\"double\""
        }
       ],
       "type": "table"
      }
     },
     "output_type": "display_data"
    }
   ],
   "source": [
    "# Enable automatic logging of input samples, metrics, parameters, and models\n",
    "mlflow.sklearn.autolog(log_input_examples=True, silent=True)\n",
    "\n",
    "with mlflow.start_run(experiment_id=\"557053454446975\", run_name=\"logistic_regression\") as mlflow_run:\n",
    "    model.fit(X_train, y_train)\n",
    "    \n",
    "    # Training metrics are logged by MLflow autologging\n",
    "    # Log metrics for the validation set\n",
    "    sklr_val_metrics = mlflow.sklearn.eval_and_log_metrics(model, X_val, y_val, prefix=\"val_\")\n",
    "\n",
    "    # Log metrics for the test set\n",
    "    sklr_test_metrics = mlflow.sklearn.eval_and_log_metrics(model, X_test, y_test, prefix=\"test_\")\n",
    "\n",
    "    # Display the logged metrics\n",
    "    sklr_val_metrics = {k.replace(\"val_\", \"\"): v for k, v in sklr_val_metrics.items()}\n",
    "    sklr_test_metrics = {k.replace(\"test_\", \"\"): v for k, v in sklr_test_metrics.items()}\n",
    "    display(pd.DataFrame([sklr_val_metrics, sklr_test_metrics], index=[\"validation\", \"test\"]))"
   ]
  },
  {
   "cell_type": "markdown",
   "metadata": {
    "application/vnd.databricks.v1+cell": {
     "cellMetadata": {
      "byteLimit": 2048000,
      "rowLimit": 10000
     },
     "inputWidgets": {},
     "nuid": "fac5aa33-541d-4715-b06d-6410653674c5",
     "showTitle": false,
     "title": ""
    }
   },
   "source": [
    "### Patch pandas version in logged model\n",
    "\n",
    "Ensures that model serving uses the same version of pandas that was used to train the model."
   ]
  },
  {
   "cell_type": "code",
   "execution_count": 0,
   "metadata": {
    "application/vnd.databricks.v1+cell": {
     "cellMetadata": {
      "byteLimit": 2048000,
      "rowLimit": 10000
     },
     "inputWidgets": {},
     "nuid": "5dd9e1a7-44f2-4406-b06c-c61273e6854e",
     "showTitle": false,
     "title": ""
    },
    "execution": {
     "iopub.execute_input": "2023-08-04T00:29:01.657051Z",
     "iopub.status.busy": "2023-08-04T00:29:01.655971Z",
     "iopub.status.idle": "2023-08-04T00:29:02.349200Z",
     "shell.execute_reply": "2023-08-04T00:29:02.349759Z"
    }
   },
   "outputs": [
    {
     "output_type": "display_data",
     "data": {
      "text/html": [
       "<style scoped>\n",
       "  .ansiout {\n",
       "    display: block;\n",
       "    unicode-bidi: embed;\n",
       "    white-space: pre-wrap;\n",
       "    word-wrap: break-word;\n",
       "    word-break: break-all;\n",
       "    font-family: \"Source Code Pro\", \"Menlo\", monospace;;\n",
       "    font-size: 13px;\n",
       "    color: #555;\n",
       "    margin-left: 4px;\n",
       "    line-height: 19px;\n",
       "  }\n",
       "</style>\n",
       "<div class=\"ansiout\">Adding pandas dependency to conda.yaml\n",
       "Adding pandas dependency to requirements.txt\n",
       "</div>"
      ]
     },
     "metadata": {
      "application/vnd.databricks.v1+output": {
       "addedWidgets": {},
       "arguments": {},
       "data": "<div class=\"ansiout\">Adding pandas dependency to conda.yaml\nAdding pandas dependency to requirements.txt\n</div>",
       "datasetInfos": [],
       "metadata": {},
       "removedWidgets": [],
       "type": "html"
      }
     },
     "output_type": "display_data"
    }
   ],
   "source": [
    "import mlflow\n",
    "import os\n",
    "import shutil\n",
    "import tempfile\n",
    "import yaml\n",
    "\n",
    "run_id = mlflow_run.info.run_id\n",
    "\n",
    "# Set up a local dir for downloading the artifacts.\n",
    "tmp_dir = str(tempfile.TemporaryDirectory())\n",
    "os.makedirs(tmp_dir)\n",
    "\n",
    "client = mlflow.tracking.MlflowClient()\n",
    "\n",
    "# Fix conda.yaml\n",
    "conda_file_path = client.download_artifacts(run_id, \"model/conda.yaml\", dst_path=tmp_dir)\n",
    "with open(conda_file_path) as f:\n",
    "  conda_libs = yaml.load(f, Loader=yaml.FullLoader)\n",
    "pandas_lib_exists = any([lib.startswith(\"pandas==\") for lib in conda_libs[\"dependencies\"][-1][\"pip\"]])\n",
    "if not pandas_lib_exists:\n",
    "  print(\"Adding pandas dependency to conda.yaml\")\n",
    "  conda_libs[\"dependencies\"][-1][\"pip\"].append(f\"pandas=={pd.__version__}\")\n",
    "\n",
    "  with open(f\"{tmp_dir}/conda.yaml\", \"w\") as f:\n",
    "    f.write(yaml.dump(conda_libs))\n",
    "  client.log_artifact(run_id=run_id, local_path=conda_file_path, artifact_path=\"model\")\n",
    "\n",
    "# Fix requirements.txt\n",
    "venv_file_path = client.download_artifacts(run_id, \"model/requirements.txt\", dst_path=tmp_dir)\n",
    "with open(venv_file_path) as f:\n",
    "  venv_libs = f.readlines()\n",
    "venv_libs = [lib.strip() for lib in venv_libs]\n",
    "pandas_lib_exists = any([lib.startswith(\"pandas==\") for lib in venv_libs])\n",
    "if not pandas_lib_exists:\n",
    "  print(\"Adding pandas dependency to requirements.txt\")\n",
    "  venv_libs.append(f\"pandas=={pd.__version__}\")\n",
    "\n",
    "  with open(f\"{tmp_dir}/requirements.txt\", \"w\") as f:\n",
    "    f.write(\"\\n\".join(venv_libs))\n",
    "  client.log_artifact(run_id=run_id, local_path=venv_file_path, artifact_path=\"model\")\n",
    "\n",
    "shutil.rmtree(tmp_dir)"
   ]
  },
  {
   "cell_type": "markdown",
   "metadata": {
    "application/vnd.databricks.v1+cell": {
     "cellMetadata": {
      "byteLimit": 2048000,
      "rowLimit": 10000
     },
     "inputWidgets": {},
     "nuid": "0a815ae1-f5ef-46ea-b11f-3e6580b1ae5f",
     "showTitle": false,
     "title": ""
    }
   },
   "source": [
    "## Feature importance\n",
    "\n",
    "SHAP is a game-theoretic approach to explain machine learning models, providing a summary plot\n",
    "of the relationship between features and model output. Features are ranked in descending order of\n",
    "importance, and impact/color describe the correlation between the feature and the target variable.\n",
    "- Generating SHAP feature importance is a very memory intensive operation, so to ensure that AutoML can run trials without\n",
    "  running out of memory, we disable SHAP by default.<br />\n",
    "  You can set the flag defined below to `shap_enabled = True` and re-run this notebook to see the SHAP plots.\n",
    "- To reduce the computational overhead of each trial, a single example is sampled from the validation set to explain.<br />\n",
    "  For more thorough results, increase the sample size of explanations, or provide your own examples to explain.\n",
    "- SHAP cannot explain models using data with nulls; if your dataset has any, both the background data and\n",
    "  examples to explain will be imputed using the mode (most frequent values). This affects the computed\n",
    "  SHAP values, as the imputed samples may not match the actual data distribution.\n",
    "\n",
    "For more information on how to read Shapley values, see the [SHAP documentation](https://shap.readthedocs.io/en/latest/example_notebooks/overviews/An%20introduction%20to%20explainable%20AI%20with%20Shapley%20values.html)."
   ]
  },
  {
   "cell_type": "code",
   "execution_count": 0,
   "metadata": {
    "application/vnd.databricks.v1+cell": {
     "cellMetadata": {
      "byteLimit": 2048000,
      "rowLimit": 10000
     },
     "inputWidgets": {},
     "nuid": "d800f45f-0ea4-4e79-9de8-8508ae533fb8",
     "showTitle": false,
     "title": ""
    },
    "execution": {
     "iopub.execute_input": "2023-08-04T00:29:02.355546Z",
     "iopub.status.busy": "2023-08-04T00:29:02.354706Z",
     "iopub.status.idle": "2023-08-04T00:29:02.358479Z",
     "shell.execute_reply": "2023-08-04T00:29:02.357585Z"
    }
   },
   "outputs": [
    {
     "output_type": "display_data",
     "data": {
      "text/html": [
       "<style scoped>\n",
       "  .ansiout {\n",
       "    display: block;\n",
       "    unicode-bidi: embed;\n",
       "    white-space: pre-wrap;\n",
       "    word-wrap: break-word;\n",
       "    word-break: break-all;\n",
       "    font-family: \"Source Code Pro\", \"Menlo\", monospace;;\n",
       "    font-size: 13px;\n",
       "    color: #555;\n",
       "    margin-left: 4px;\n",
       "    line-height: 19px;\n",
       "  }\n",
       "</style>\n",
       "<div class=\"ansiout\"></div>"
      ]
     },
     "metadata": {
      "application/vnd.databricks.v1+output": {
       "addedWidgets": {},
       "arguments": {},
       "data": "<div class=\"ansiout\"></div>",
       "datasetInfos": [],
       "metadata": {},
       "removedWidgets": [],
       "type": "html"
      }
     },
     "output_type": "display_data"
    }
   ],
   "source": [
    "# Set this flag to True and re-run the notebook to see the SHAP plots\n",
    "shap_enabled = True"
   ]
  },
  {
   "cell_type": "code",
   "execution_count": 0,
   "metadata": {
    "application/vnd.databricks.v1+cell": {
     "cellMetadata": {
      "byteLimit": 2048000,
      "rowLimit": 10000
     },
     "inputWidgets": {},
     "nuid": "ef641b8a-c7f3-48e1-a241-e9c917e1840b",
     "showTitle": false,
     "title": ""
    },
    "execution": {
     "iopub.execute_input": "2023-08-04T00:29:02.362921Z",
     "iopub.status.busy": "2023-08-04T00:29:02.361529Z",
     "iopub.status.idle": "2023-08-04T00:29:02.369807Z",
     "shell.execute_reply": "2023-08-04T00:29:02.369042Z"
    }
   },
   "outputs": [
    {
     "output_type": "display_data",
     "data": {
      "text/html": [
       "<style scoped>\n",
       "  .ansiout {\n",
       "    display: block;\n",
       "    unicode-bidi: embed;\n",
       "    white-space: pre-wrap;\n",
       "    word-wrap: break-word;\n",
       "    word-break: break-all;\n",
       "    font-family: \"Source Code Pro\", \"Menlo\", monospace;;\n",
       "    font-size: 13px;\n",
       "    color: #555;\n",
       "    margin-left: 4px;\n",
       "    line-height: 19px;\n",
       "  }\n",
       "</style>\n",
       "<div class=\"ansiout\">  0%|          | 0/1 [00:00&lt;?, ?it/s]\n",
       "</div>"
      ]
     },
     "metadata": {
      "application/vnd.databricks.v1+output": {
       "addedWidgets": {},
       "arguments": {},
       "data": "<div class=\"ansiout\">  0%|          | 0/1 [00:00&lt;?, ?it/s]\n</div>",
       "datasetInfos": [],
       "metadata": {},
       "removedWidgets": [],
       "type": "html"
      }
     },
     "output_type": "display_data"
    },
    {
     "output_type": "display_data",
     "data": {
      "image/png": "[encoded data removed]"
     },
     "metadata": {
      "application/vnd.databricks.v1+output": {
       "addedWidgets": {},
       "arguments": {},
       "data": "data:image/png;base64,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",
       "datasetInfos": [],
       "metadata": {
        "imageDimensions": {
         "height": 303,
         "width": 638
        }
       },
       "removedWidgets": [],
       "type": "image"
      },
      "image/png": {
       "height": 303,
       "width": 638
      }
     },
     "output_type": "display_data"
    }
   ],
   "source": [
    "if shap_enabled:\n",
    "    mlflow.autolog(disable=True)\n",
    "    mlflow.sklearn.autolog(disable=True)\n",
    "    from shap import KernelExplainer, summary_plot\n",
    "    # Sample background data for SHAP Explainer. Increase the sample size to reduce variance.\n",
    "    train_sample = X_train.sample(n=min(100, len(X_train.index)))\n",
    "\n",
    "    # Sample a single example from the validation set to explain. Increase the sample size and rerun for more thorough results.\n",
    "    example = X_val.sample(n=1)\n",
    "\n",
    "    # Use Kernel SHAP to explain feature importance on the example from the validation set.\n",
    "    predict = lambda x: model.predict_proba(pd.DataFrame(x, columns=X_train.columns))\n",
    "    explainer = KernelExplainer(predict, train_sample, link=\"logit\")\n",
    "    shap_values = explainer.shap_values(example, l1_reg=False, nsamples=500)\n",
    "    summary_plot(shap_values, example, class_names=model.classes_)"
   ]
  },
  {
   "cell_type": "markdown",
   "metadata": {
    "application/vnd.databricks.v1+cell": {
     "cellMetadata": {
      "byteLimit": 2048000,
      "rowLimit": 10000
     },
     "inputWidgets": {},
     "nuid": "c473b8d3-96c5-4c10-a2e4-46d93f49d773",
     "showTitle": false,
     "title": ""
    }
   },
   "source": [
    "## Inference\n",
    "[The MLflow Model Registry](https://docs.databricks.com/applications/mlflow/model-registry.html) is a collaborative hub where teams can share ML models, work together from experimentation to online testing and production, integrate with approval and governance workflows, and monitor ML deployments and their performance. The snippets below show how to add the model trained in this notebook to the model registry and to retrieve it later for inference.\n",
    "\n",
    "> **NOTE:** The `model_uri` for the model already trained in this notebook can be found in the cell below\n",
    "\n",
    "### Register to Model Registry\n",
    "```\n",
    "model_name = \"Example\"\n",
    "\n",
    "model_uri = f\"runs:/{ mlflow_run.info.run_id }/model\"\n",
    "registered_model_version = mlflow.register_model(model_uri, model_name)\n",
    "```\n",
    "\n",
    "### Load from Model Registry\n",
    "```\n",
    "model_name = \"Example\"\n",
    "model_version = registered_model_version.version\n",
    "\n",
    "model = mlflow.pyfunc.load_model(model_uri=f\"models:/{model_name}/{model_version}\")\n",
    "model.predict(input_X)\n",
    "```\n",
    "\n",
    "### Load model without registering\n",
    "```\n",
    "model_uri = f\"runs:/{ mlflow_run.info.run_id }/model\"\n",
    "\n",
    "model = mlflow.pyfunc.load_model(model_uri)\n",
    "model.predict(input_X)\n",
    "```"
   ]
  },
  {
   "cell_type": "code",
   "execution_count": 0,
   "metadata": {
    "application/vnd.databricks.v1+cell": {
     "cellMetadata": {
      "byteLimit": 2048000,
      "rowLimit": 10000
     },
     "inputWidgets": {},
     "nuid": "c04e22a9-0f63-49a5-9b0a-f24668caace5",
     "showTitle": false,
     "title": ""
    },
    "execution": {
     "iopub.execute_input": "2023-08-04T00:29:02.375788Z",
     "iopub.status.busy": "2023-08-04T00:29:02.374916Z",
     "iopub.status.idle": "2023-08-04T00:29:02.379037Z",
     "shell.execute_reply": "2023-08-04T00:29:02.379511Z"
    }
   },
   "outputs": [
    {
     "output_type": "display_data",
     "data": {
      "text/html": [
       "<style scoped>\n",
       "  .ansiout {\n",
       "    display: block;\n",
       "    unicode-bidi: embed;\n",
       "    white-space: pre-wrap;\n",
       "    word-wrap: break-word;\n",
       "    word-break: break-all;\n",
       "    font-family: \"Source Code Pro\", \"Menlo\", monospace;;\n",
       "    font-size: 13px;\n",
       "    color: #555;\n",
       "    margin-left: 4px;\n",
       "    line-height: 19px;\n",
       "  }\n",
       "</style>\n",
       "<div class=\"ansiout\">runs:/c4bdb08bef6c4ea491688fff10bd5f5f/model\n",
       "</div>"
      ]
     },
     "metadata": {
      "application/vnd.databricks.v1+output": {
       "addedWidgets": {},
       "arguments": {},
       "data": "<div class=\"ansiout\">runs:/c4bdb08bef6c4ea491688fff10bd5f5f/model\n</div>",
       "datasetInfos": [],
       "metadata": {},
       "removedWidgets": [],
       "type": "html"
      }
     },
     "output_type": "display_data"
    }
   ],
   "source": [
    "# model_uri for the generated model\n",
    "print(f\"runs:/{ mlflow_run.info.run_id }/model\")"
   ]
  }
 ],
 "metadata": {
  "application/vnd.databricks.v1+notebook": {
   "dashboards": [],
   "language": "python",
   "notebookMetadata": {
    "pythonIndentUnit": 4
   },
   "notebookName": "23-08-04-00:27-LogisticRegression-61a720850f8db7342c6f432813d328f7",
   "widgets": {}
  },
  "language_info": {
   "codemirror_mode": {
    "name": "ipython",
    "version": 3
   },
   "file_extension": ".py",
   "mimetype": "text/x-python",
   "name": "python",
   "nbconvert_exporter": "python",
   "pygments_lexer": "ipython3",
   "version": "3.8.10"
  },
  "name": "LogisticRegression-61a720850f8db7342c6f432813d328f7"
 },
 "nbformat": 4,
 "nbformat_minor": 0
}
